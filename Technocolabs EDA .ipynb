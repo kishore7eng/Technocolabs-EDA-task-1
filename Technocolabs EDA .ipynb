{
 "cells": [
  {
   "cell_type": "markdown",
   "metadata": {},
   "source": [
    "# Importing Libraries"
   ]
  },
  {
   "cell_type": "code",
   "execution_count": 301,
   "metadata": {
    "scrolled": true
   },
   "outputs": [],
   "source": [
    "import numpy as np\n",
    "import pandas as pd\n",
    "import seaborn as sns \n",
    "import matplotlib.pyplot as plt\n",
    "%matplotlib inline\n",
    "import seaborn as sns\n",
    "import datetime as dt"
   ]
  },
  {
   "cell_type": "markdown",
   "metadata": {},
   "source": [
    "# Reading file"
   ]
  },
  {
   "cell_type": "code",
   "execution_count": 302,
   "metadata": {},
   "outputs": [],
   "source": [
    "df=pd.read_csv(r\"C:\\Users\\rmkis\\Desktop\\Datasets\\HistoricalData.csv\",encoding='ISO-8859-1')"
   ]
  },
  {
   "cell_type": "code",
   "execution_count": 303,
   "metadata": {},
   "outputs": [
    {
     "data": {
      "text/html": [
       "<div>\n",
       "<style scoped>\n",
       "    .dataframe tbody tr th:only-of-type {\n",
       "        vertical-align: middle;\n",
       "    }\n",
       "\n",
       "    .dataframe tbody tr th {\n",
       "        vertical-align: top;\n",
       "    }\n",
       "\n",
       "    .dataframe thead th {\n",
       "        text-align: right;\n",
       "    }\n",
       "</style>\n",
       "<table border=\"1\" class=\"dataframe\">\n",
       "  <thead>\n",
       "    <tr style=\"text-align: right;\">\n",
       "      <th></th>\n",
       "      <th>Date</th>\n",
       "      <th>Close/Last</th>\n",
       "      <th>Volume</th>\n",
       "      <th>Open</th>\n",
       "      <th>High</th>\n",
       "      <th>Low</th>\n",
       "    </tr>\n",
       "  </thead>\n",
       "  <tbody>\n",
       "    <tr>\n",
       "      <th>0</th>\n",
       "      <td>07/02/2021</td>\n",
       "      <td>$139.96</td>\n",
       "      <td>78945570</td>\n",
       "      <td>$137.9</td>\n",
       "      <td>$140</td>\n",
       "      <td>$137.745</td>\n",
       "    </tr>\n",
       "    <tr>\n",
       "      <th>1</th>\n",
       "      <td>07/01/2021</td>\n",
       "      <td>$137.27</td>\n",
       "      <td>52485780</td>\n",
       "      <td>$136.6</td>\n",
       "      <td>$137.33</td>\n",
       "      <td>$135.76</td>\n",
       "    </tr>\n",
       "    <tr>\n",
       "      <th>2</th>\n",
       "      <td>06/30/2021</td>\n",
       "      <td>$136.96</td>\n",
       "      <td>63261390</td>\n",
       "      <td>$136.17</td>\n",
       "      <td>$137.41</td>\n",
       "      <td>$135.87</td>\n",
       "    </tr>\n",
       "    <tr>\n",
       "      <th>3</th>\n",
       "      <td>06/29/2021</td>\n",
       "      <td>$136.33</td>\n",
       "      <td>64556080</td>\n",
       "      <td>$134.8</td>\n",
       "      <td>$136.49</td>\n",
       "      <td>$134.35</td>\n",
       "    </tr>\n",
       "    <tr>\n",
       "      <th>4</th>\n",
       "      <td>06/28/2021</td>\n",
       "      <td>$134.78</td>\n",
       "      <td>62111300</td>\n",
       "      <td>$133.41</td>\n",
       "      <td>$135.245</td>\n",
       "      <td>$133.35</td>\n",
       "    </tr>\n",
       "  </tbody>\n",
       "</table>\n",
       "</div>"
      ],
      "text/plain": [
       "         Date Close/Last    Volume     Open      High       Low\n",
       "0  07/02/2021    $139.96  78945570   $137.9      $140  $137.745\n",
       "1  07/01/2021    $137.27  52485780   $136.6   $137.33   $135.76\n",
       "2  06/30/2021    $136.96  63261390  $136.17   $137.41   $135.87\n",
       "3  06/29/2021    $136.33  64556080   $134.8   $136.49   $134.35\n",
       "4  06/28/2021    $134.78  62111300  $133.41  $135.245   $133.35"
      ]
     },
     "execution_count": 303,
     "metadata": {},
     "output_type": "execute_result"
    }
   ],
   "source": [
    "df.head()"
   ]
  },
  {
   "cell_type": "code",
   "execution_count": 304,
   "metadata": {},
   "outputs": [
    {
     "data": {
      "text/html": [
       "<div>\n",
       "<style scoped>\n",
       "    .dataframe tbody tr th:only-of-type {\n",
       "        vertical-align: middle;\n",
       "    }\n",
       "\n",
       "    .dataframe tbody tr th {\n",
       "        vertical-align: top;\n",
       "    }\n",
       "\n",
       "    .dataframe thead th {\n",
       "        text-align: right;\n",
       "    }\n",
       "</style>\n",
       "<table border=\"1\" class=\"dataframe\">\n",
       "  <thead>\n",
       "    <tr style=\"text-align: right;\">\n",
       "      <th></th>\n",
       "      <th>Date</th>\n",
       "      <th>Close/Last</th>\n",
       "      <th>Volume</th>\n",
       "      <th>Open</th>\n",
       "      <th>High</th>\n",
       "      <th>Low</th>\n",
       "    </tr>\n",
       "  </thead>\n",
       "  <tbody>\n",
       "    <tr>\n",
       "      <th>1254</th>\n",
       "      <td>07/11/2016</td>\n",
       "      <td>$24.245</td>\n",
       "      <td>93271960</td>\n",
       "      <td>$24.1875</td>\n",
       "      <td>$24.4125</td>\n",
       "      <td>$24.1825</td>\n",
       "    </tr>\n",
       "    <tr>\n",
       "      <th>1255</th>\n",
       "      <td>07/08/2016</td>\n",
       "      <td>$24.17</td>\n",
       "      <td>115510000</td>\n",
       "      <td>$24.1225</td>\n",
       "      <td>$24.2225</td>\n",
       "      <td>$24.0125</td>\n",
       "    </tr>\n",
       "    <tr>\n",
       "      <th>1256</th>\n",
       "      <td>07/07/2016</td>\n",
       "      <td>$23.985</td>\n",
       "      <td>97843400</td>\n",
       "      <td>$23.925</td>\n",
       "      <td>$24.125</td>\n",
       "      <td>$23.905</td>\n",
       "    </tr>\n",
       "    <tr>\n",
       "      <th>1257</th>\n",
       "      <td>07/06/2016</td>\n",
       "      <td>$23.8825</td>\n",
       "      <td>123510160</td>\n",
       "      <td>$23.65</td>\n",
       "      <td>$23.915</td>\n",
       "      <td>$23.5925</td>\n",
       "    </tr>\n",
       "    <tr>\n",
       "      <th>1258</th>\n",
       "      <td>07/05/2016</td>\n",
       "      <td>$23.7475</td>\n",
       "      <td>110215000</td>\n",
       "      <td>$23.8475</td>\n",
       "      <td>$23.85</td>\n",
       "      <td>$23.615</td>\n",
       "    </tr>\n",
       "  </tbody>\n",
       "</table>\n",
       "</div>"
      ],
      "text/plain": [
       "            Date Close/Last     Volume      Open      High       Low\n",
       "1254  07/11/2016    $24.245   93271960  $24.1875  $24.4125  $24.1825\n",
       "1255  07/08/2016     $24.17  115510000  $24.1225  $24.2225  $24.0125\n",
       "1256  07/07/2016    $23.985   97843400   $23.925   $24.125   $23.905\n",
       "1257  07/06/2016   $23.8825  123510160    $23.65   $23.915  $23.5925\n",
       "1258  07/05/2016   $23.7475  110215000  $23.8475    $23.85   $23.615"
      ]
     },
     "execution_count": 304,
     "metadata": {},
     "output_type": "execute_result"
    }
   ],
   "source": [
    "df.tail()"
   ]
  },
  {
   "cell_type": "code",
   "execution_count": 305,
   "metadata": {},
   "outputs": [
    {
     "data": {
      "text/plain": [
       "Date          object\n",
       "Close/Last    object\n",
       "Volume         int64\n",
       "Open          object\n",
       "High          object\n",
       "Low           object\n",
       "dtype: object"
      ]
     },
     "execution_count": 305,
     "metadata": {},
     "output_type": "execute_result"
    }
   ],
   "source": [
    "df.dtypes"
   ]
  },
  {
   "cell_type": "markdown",
   "metadata": {},
   "source": [
    "# Renaming Columns"
   ]
  },
  {
   "cell_type": "code",
   "execution_count": 306,
   "metadata": {},
   "outputs": [],
   "source": [
    "df=df.rename(columns={'Close/Last':'Close'})"
   ]
  },
  {
   "cell_type": "code",
   "execution_count": 307,
   "metadata": {},
   "outputs": [
    {
     "data": {
      "text/html": [
       "<div>\n",
       "<style scoped>\n",
       "    .dataframe tbody tr th:only-of-type {\n",
       "        vertical-align: middle;\n",
       "    }\n",
       "\n",
       "    .dataframe tbody tr th {\n",
       "        vertical-align: top;\n",
       "    }\n",
       "\n",
       "    .dataframe thead th {\n",
       "        text-align: right;\n",
       "    }\n",
       "</style>\n",
       "<table border=\"1\" class=\"dataframe\">\n",
       "  <thead>\n",
       "    <tr style=\"text-align: right;\">\n",
       "      <th></th>\n",
       "      <th>Date</th>\n",
       "      <th>Close</th>\n",
       "      <th>Volume</th>\n",
       "      <th>Open</th>\n",
       "      <th>High</th>\n",
       "      <th>Low</th>\n",
       "    </tr>\n",
       "  </thead>\n",
       "  <tbody>\n",
       "    <tr>\n",
       "      <th>0</th>\n",
       "      <td>07/02/2021</td>\n",
       "      <td>$139.96</td>\n",
       "      <td>78945570</td>\n",
       "      <td>$137.9</td>\n",
       "      <td>$140</td>\n",
       "      <td>$137.745</td>\n",
       "    </tr>\n",
       "    <tr>\n",
       "      <th>1</th>\n",
       "      <td>07/01/2021</td>\n",
       "      <td>$137.27</td>\n",
       "      <td>52485780</td>\n",
       "      <td>$136.6</td>\n",
       "      <td>$137.33</td>\n",
       "      <td>$135.76</td>\n",
       "    </tr>\n",
       "    <tr>\n",
       "      <th>2</th>\n",
       "      <td>06/30/2021</td>\n",
       "      <td>$136.96</td>\n",
       "      <td>63261390</td>\n",
       "      <td>$136.17</td>\n",
       "      <td>$137.41</td>\n",
       "      <td>$135.87</td>\n",
       "    </tr>\n",
       "    <tr>\n",
       "      <th>3</th>\n",
       "      <td>06/29/2021</td>\n",
       "      <td>$136.33</td>\n",
       "      <td>64556080</td>\n",
       "      <td>$134.8</td>\n",
       "      <td>$136.49</td>\n",
       "      <td>$134.35</td>\n",
       "    </tr>\n",
       "    <tr>\n",
       "      <th>4</th>\n",
       "      <td>06/28/2021</td>\n",
       "      <td>$134.78</td>\n",
       "      <td>62111300</td>\n",
       "      <td>$133.41</td>\n",
       "      <td>$135.245</td>\n",
       "      <td>$133.35</td>\n",
       "    </tr>\n",
       "  </tbody>\n",
       "</table>\n",
       "</div>"
      ],
      "text/plain": [
       "         Date    Close    Volume     Open      High       Low\n",
       "0  07/02/2021  $139.96  78945570   $137.9      $140  $137.745\n",
       "1  07/01/2021  $137.27  52485780   $136.6   $137.33   $135.76\n",
       "2  06/30/2021  $136.96  63261390  $136.17   $137.41   $135.87\n",
       "3  06/29/2021  $136.33  64556080   $134.8   $136.49   $134.35\n",
       "4  06/28/2021  $134.78  62111300  $133.41  $135.245   $133.35"
      ]
     },
     "execution_count": 307,
     "metadata": {},
     "output_type": "execute_result"
    }
   ],
   "source": [
    "df.head()"
   ]
  },
  {
   "cell_type": "markdown",
   "metadata": {},
   "source": [
    "# Converting Data type"
   ]
  },
  {
   "cell_type": "code",
   "execution_count": 308,
   "metadata": {},
   "outputs": [],
   "source": [
    "df['Date']=pd.to_datetime(df['Date'],format='%m/%d/%Y')"
   ]
  },
  {
   "cell_type": "code",
   "execution_count": 309,
   "metadata": {},
   "outputs": [
    {
     "data": {
      "text/html": [
       "<div>\n",
       "<style scoped>\n",
       "    .dataframe tbody tr th:only-of-type {\n",
       "        vertical-align: middle;\n",
       "    }\n",
       "\n",
       "    .dataframe tbody tr th {\n",
       "        vertical-align: top;\n",
       "    }\n",
       "\n",
       "    .dataframe thead th {\n",
       "        text-align: right;\n",
       "    }\n",
       "</style>\n",
       "<table border=\"1\" class=\"dataframe\">\n",
       "  <thead>\n",
       "    <tr style=\"text-align: right;\">\n",
       "      <th></th>\n",
       "      <th>Date</th>\n",
       "      <th>Close</th>\n",
       "      <th>Volume</th>\n",
       "      <th>Open</th>\n",
       "      <th>High</th>\n",
       "      <th>Low</th>\n",
       "    </tr>\n",
       "  </thead>\n",
       "  <tbody>\n",
       "    <tr>\n",
       "      <th>0</th>\n",
       "      <td>2021-07-02</td>\n",
       "      <td>$139.96</td>\n",
       "      <td>78945570</td>\n",
       "      <td>$137.9</td>\n",
       "      <td>$140</td>\n",
       "      <td>$137.745</td>\n",
       "    </tr>\n",
       "    <tr>\n",
       "      <th>1</th>\n",
       "      <td>2021-07-01</td>\n",
       "      <td>$137.27</td>\n",
       "      <td>52485780</td>\n",
       "      <td>$136.6</td>\n",
       "      <td>$137.33</td>\n",
       "      <td>$135.76</td>\n",
       "    </tr>\n",
       "    <tr>\n",
       "      <th>2</th>\n",
       "      <td>2021-06-30</td>\n",
       "      <td>$136.96</td>\n",
       "      <td>63261390</td>\n",
       "      <td>$136.17</td>\n",
       "      <td>$137.41</td>\n",
       "      <td>$135.87</td>\n",
       "    </tr>\n",
       "    <tr>\n",
       "      <th>3</th>\n",
       "      <td>2021-06-29</td>\n",
       "      <td>$136.33</td>\n",
       "      <td>64556080</td>\n",
       "      <td>$134.8</td>\n",
       "      <td>$136.49</td>\n",
       "      <td>$134.35</td>\n",
       "    </tr>\n",
       "    <tr>\n",
       "      <th>4</th>\n",
       "      <td>2021-06-28</td>\n",
       "      <td>$134.78</td>\n",
       "      <td>62111300</td>\n",
       "      <td>$133.41</td>\n",
       "      <td>$135.245</td>\n",
       "      <td>$133.35</td>\n",
       "    </tr>\n",
       "  </tbody>\n",
       "</table>\n",
       "</div>"
      ],
      "text/plain": [
       "        Date    Close    Volume     Open      High       Low\n",
       "0 2021-07-02  $139.96  78945570   $137.9      $140  $137.745\n",
       "1 2021-07-01  $137.27  52485780   $136.6   $137.33   $135.76\n",
       "2 2021-06-30  $136.96  63261390  $136.17   $137.41   $135.87\n",
       "3 2021-06-29  $136.33  64556080   $134.8   $136.49   $134.35\n",
       "4 2021-06-28  $134.78  62111300  $133.41  $135.245   $133.35"
      ]
     },
     "execution_count": 309,
     "metadata": {},
     "output_type": "execute_result"
    }
   ],
   "source": [
    "df.head()"
   ]
  },
  {
   "cell_type": "code",
   "execution_count": 310,
   "metadata": {},
   "outputs": [],
   "source": [
    "df['Close']=df['Close'].replace('[\\$]','',regex=True).astype(float)"
   ]
  },
  {
   "cell_type": "code",
   "execution_count": 311,
   "metadata": {},
   "outputs": [],
   "source": [
    "df[df.columns[3:]]=df[df.columns[3:]].replace('[\\$]','',regex=True).astype(float)"
   ]
  },
  {
   "cell_type": "code",
   "execution_count": 312,
   "metadata": {},
   "outputs": [
    {
     "data": {
      "text/html": [
       "<div>\n",
       "<style scoped>\n",
       "    .dataframe tbody tr th:only-of-type {\n",
       "        vertical-align: middle;\n",
       "    }\n",
       "\n",
       "    .dataframe tbody tr th {\n",
       "        vertical-align: top;\n",
       "    }\n",
       "\n",
       "    .dataframe thead th {\n",
       "        text-align: right;\n",
       "    }\n",
       "</style>\n",
       "<table border=\"1\" class=\"dataframe\">\n",
       "  <thead>\n",
       "    <tr style=\"text-align: right;\">\n",
       "      <th></th>\n",
       "      <th>Date</th>\n",
       "      <th>Close</th>\n",
       "      <th>Volume</th>\n",
       "      <th>Open</th>\n",
       "      <th>High</th>\n",
       "      <th>Low</th>\n",
       "    </tr>\n",
       "  </thead>\n",
       "  <tbody>\n",
       "    <tr>\n",
       "      <th>0</th>\n",
       "      <td>2021-07-02</td>\n",
       "      <td>139.9600</td>\n",
       "      <td>78945570</td>\n",
       "      <td>137.9000</td>\n",
       "      <td>140.0000</td>\n",
       "      <td>137.7450</td>\n",
       "    </tr>\n",
       "    <tr>\n",
       "      <th>1</th>\n",
       "      <td>2021-07-01</td>\n",
       "      <td>137.2700</td>\n",
       "      <td>52485780</td>\n",
       "      <td>136.6000</td>\n",
       "      <td>137.3300</td>\n",
       "      <td>135.7600</td>\n",
       "    </tr>\n",
       "    <tr>\n",
       "      <th>2</th>\n",
       "      <td>2021-06-30</td>\n",
       "      <td>136.9600</td>\n",
       "      <td>63261390</td>\n",
       "      <td>136.1700</td>\n",
       "      <td>137.4100</td>\n",
       "      <td>135.8700</td>\n",
       "    </tr>\n",
       "    <tr>\n",
       "      <th>3</th>\n",
       "      <td>2021-06-29</td>\n",
       "      <td>136.3300</td>\n",
       "      <td>64556080</td>\n",
       "      <td>134.8000</td>\n",
       "      <td>136.4900</td>\n",
       "      <td>134.3500</td>\n",
       "    </tr>\n",
       "    <tr>\n",
       "      <th>4</th>\n",
       "      <td>2021-06-28</td>\n",
       "      <td>134.7800</td>\n",
       "      <td>62111300</td>\n",
       "      <td>133.4100</td>\n",
       "      <td>135.2450</td>\n",
       "      <td>133.3500</td>\n",
       "    </tr>\n",
       "    <tr>\n",
       "      <th>...</th>\n",
       "      <td>...</td>\n",
       "      <td>...</td>\n",
       "      <td>...</td>\n",
       "      <td>...</td>\n",
       "      <td>...</td>\n",
       "      <td>...</td>\n",
       "    </tr>\n",
       "    <tr>\n",
       "      <th>1254</th>\n",
       "      <td>2016-07-11</td>\n",
       "      <td>24.2450</td>\n",
       "      <td>93271960</td>\n",
       "      <td>24.1875</td>\n",
       "      <td>24.4125</td>\n",
       "      <td>24.1825</td>\n",
       "    </tr>\n",
       "    <tr>\n",
       "      <th>1255</th>\n",
       "      <td>2016-07-08</td>\n",
       "      <td>24.1700</td>\n",
       "      <td>115510000</td>\n",
       "      <td>24.1225</td>\n",
       "      <td>24.2225</td>\n",
       "      <td>24.0125</td>\n",
       "    </tr>\n",
       "    <tr>\n",
       "      <th>1256</th>\n",
       "      <td>2016-07-07</td>\n",
       "      <td>23.9850</td>\n",
       "      <td>97843400</td>\n",
       "      <td>23.9250</td>\n",
       "      <td>24.1250</td>\n",
       "      <td>23.9050</td>\n",
       "    </tr>\n",
       "    <tr>\n",
       "      <th>1257</th>\n",
       "      <td>2016-07-06</td>\n",
       "      <td>23.8825</td>\n",
       "      <td>123510160</td>\n",
       "      <td>23.6500</td>\n",
       "      <td>23.9150</td>\n",
       "      <td>23.5925</td>\n",
       "    </tr>\n",
       "    <tr>\n",
       "      <th>1258</th>\n",
       "      <td>2016-07-05</td>\n",
       "      <td>23.7475</td>\n",
       "      <td>110215000</td>\n",
       "      <td>23.8475</td>\n",
       "      <td>23.8500</td>\n",
       "      <td>23.6150</td>\n",
       "    </tr>\n",
       "  </tbody>\n",
       "</table>\n",
       "<p>1259 rows × 6 columns</p>\n",
       "</div>"
      ],
      "text/plain": [
       "           Date     Close     Volume      Open      High       Low\n",
       "0    2021-07-02  139.9600   78945570  137.9000  140.0000  137.7450\n",
       "1    2021-07-01  137.2700   52485780  136.6000  137.3300  135.7600\n",
       "2    2021-06-30  136.9600   63261390  136.1700  137.4100  135.8700\n",
       "3    2021-06-29  136.3300   64556080  134.8000  136.4900  134.3500\n",
       "4    2021-06-28  134.7800   62111300  133.4100  135.2450  133.3500\n",
       "...         ...       ...        ...       ...       ...       ...\n",
       "1254 2016-07-11   24.2450   93271960   24.1875   24.4125   24.1825\n",
       "1255 2016-07-08   24.1700  115510000   24.1225   24.2225   24.0125\n",
       "1256 2016-07-07   23.9850   97843400   23.9250   24.1250   23.9050\n",
       "1257 2016-07-06   23.8825  123510160   23.6500   23.9150   23.5925\n",
       "1258 2016-07-05   23.7475  110215000   23.8475   23.8500   23.6150\n",
       "\n",
       "[1259 rows x 6 columns]"
      ]
     },
     "execution_count": 312,
     "metadata": {},
     "output_type": "execute_result"
    }
   ],
   "source": [
    "df"
   ]
  },
  {
   "cell_type": "code",
   "execution_count": 313,
   "metadata": {},
   "outputs": [
    {
     "data": {
      "text/html": [
       "<div>\n",
       "<style scoped>\n",
       "    .dataframe tbody tr th:only-of-type {\n",
       "        vertical-align: middle;\n",
       "    }\n",
       "\n",
       "    .dataframe tbody tr th {\n",
       "        vertical-align: top;\n",
       "    }\n",
       "\n",
       "    .dataframe thead th {\n",
       "        text-align: right;\n",
       "    }\n",
       "</style>\n",
       "<table border=\"1\" class=\"dataframe\">\n",
       "  <thead>\n",
       "    <tr style=\"text-align: right;\">\n",
       "      <th></th>\n",
       "      <th>Close</th>\n",
       "      <th>Volume</th>\n",
       "      <th>Open</th>\n",
       "      <th>High</th>\n",
       "      <th>Low</th>\n",
       "    </tr>\n",
       "  </thead>\n",
       "  <tbody>\n",
       "    <tr>\n",
       "      <th>count</th>\n",
       "      <td>1259.000000</td>\n",
       "      <td>1.259000e+03</td>\n",
       "      <td>1259.000000</td>\n",
       "      <td>1259.000000</td>\n",
       "      <td>1259.000000</td>\n",
       "    </tr>\n",
       "    <tr>\n",
       "      <th>mean</th>\n",
       "      <td>62.175421</td>\n",
       "      <td>1.257048e+08</td>\n",
       "      <td>62.137779</td>\n",
       "      <td>62.810971</td>\n",
       "      <td>61.477203</td>\n",
       "    </tr>\n",
       "    <tr>\n",
       "      <th>std</th>\n",
       "      <td>33.129425</td>\n",
       "      <td>5.727528e+07</td>\n",
       "      <td>33.156412</td>\n",
       "      <td>33.586930</td>\n",
       "      <td>32.646245</td>\n",
       "    </tr>\n",
       "    <tr>\n",
       "      <th>min</th>\n",
       "      <td>23.747500</td>\n",
       "      <td>4.544820e+07</td>\n",
       "      <td>23.650000</td>\n",
       "      <td>23.850000</td>\n",
       "      <td>23.592500</td>\n",
       "    </tr>\n",
       "    <tr>\n",
       "      <th>25%</th>\n",
       "      <td>39.100000</td>\n",
       "      <td>8.798754e+07</td>\n",
       "      <td>39.185000</td>\n",
       "      <td>39.471250</td>\n",
       "      <td>38.776250</td>\n",
       "    </tr>\n",
       "    <tr>\n",
       "      <th>50%</th>\n",
       "      <td>48.185000</td>\n",
       "      <td>1.098748e+08</td>\n",
       "      <td>48.105000</td>\n",
       "      <td>48.615000</td>\n",
       "      <td>47.787500</td>\n",
       "    </tr>\n",
       "    <tr>\n",
       "      <th>75%</th>\n",
       "      <td>77.396250</td>\n",
       "      <td>1.455448e+08</td>\n",
       "      <td>77.270000</td>\n",
       "      <td>78.270000</td>\n",
       "      <td>76.385000</td>\n",
       "    </tr>\n",
       "    <tr>\n",
       "      <th>max</th>\n",
       "      <td>143.160000</td>\n",
       "      <td>4.473492e+08</td>\n",
       "      <td>143.600000</td>\n",
       "      <td>145.090000</td>\n",
       "      <td>141.370000</td>\n",
       "    </tr>\n",
       "  </tbody>\n",
       "</table>\n",
       "</div>"
      ],
      "text/plain": [
       "             Close        Volume         Open         High          Low\n",
       "count  1259.000000  1.259000e+03  1259.000000  1259.000000  1259.000000\n",
       "mean     62.175421  1.257048e+08    62.137779    62.810971    61.477203\n",
       "std      33.129425  5.727528e+07    33.156412    33.586930    32.646245\n",
       "min      23.747500  4.544820e+07    23.650000    23.850000    23.592500\n",
       "25%      39.100000  8.798754e+07    39.185000    39.471250    38.776250\n",
       "50%      48.185000  1.098748e+08    48.105000    48.615000    47.787500\n",
       "75%      77.396250  1.455448e+08    77.270000    78.270000    76.385000\n",
       "max     143.160000  4.473492e+08   143.600000   145.090000   141.370000"
      ]
     },
     "execution_count": 313,
     "metadata": {},
     "output_type": "execute_result"
    }
   ],
   "source": [
    "df.describe()"
   ]
  },
  {
   "cell_type": "markdown",
   "metadata": {},
   "source": [
    "# Detecting Outliers"
   ]
  },
  {
   "cell_type": "code",
   "execution_count": 314,
   "metadata": {},
   "outputs": [
    {
     "name": "stderr",
     "output_type": "stream",
     "text": [
      "C:\\Users\\rmkis\\anaconda3\\lib\\site-packages\\seaborn\\distributions.py:2551: FutureWarning: `distplot` is a deprecated function and will be removed in a future version. Please adapt your code to use either `displot` (a figure-level function with similar flexibility) or `histplot` (an axes-level function for histograms).\n",
      "  warnings.warn(msg, FutureWarning)\n"
     ]
    },
    {
     "data": {
      "image/png": "[encoded data removed]",
      "text/plain": [
       "<Figure size 720x360 with 1 Axes>"
      ]
     },
     "metadata": {
      "needs_background": "light"
     },
     "output_type": "display_data"
    }
   ],
   "source": [
    "plt.figure(figsize=(10,5))\n",
    "sns.distplot(df['Close'])\n",
    "plt.show()"
   ]
  },
  {
   "cell_type": "code",
   "execution_count": 315,
   "metadata": {},
   "outputs": [
    {
     "name": "stderr",
     "output_type": "stream",
     "text": [
      "C:\\Users\\rmkis\\anaconda3\\lib\\site-packages\\seaborn\\_decorators.py:36: FutureWarning: Pass the following variable as a keyword arg: x. From version 0.12, the only valid positional argument will be `data`, and passing other arguments without an explicit keyword will result in an error or misinterpretation.\n",
      "  warnings.warn(\n"
     ]
    },
    {
     "data": {
      "text/plain": [
       "<AxesSubplot:xlabel='Close'>"
      ]
     },
     "execution_count": 315,
     "metadata": {},
     "output_type": "execute_result"
    },
    {
     "data": {
      "image/png": "[encoded data removed]",
      "text/plain": [
       "<Figure size 432x288 with 1 Axes>"
      ]
     },
     "metadata": {
      "needs_background": "light"
     },
     "output_type": "display_data"
    }
   ],
   "source": [
    "sns.boxplot(df[\"Close\"])"
   ]
  },
  {
   "cell_type": "markdown",
   "metadata": {},
   "source": [
    "# Handling Outliers using Inter Quartile Range"
   ]
  },
  {
   "cell_type": "code",
   "execution_count": 316,
   "metadata": {},
   "outputs": [
    {
     "name": "stdout",
     "output_type": "stream",
     "text": [
      "39.099999999999994 77.39625000000001\n"
     ]
    },
    {
     "data": {
      "text/plain": [
       "38.296250000000015"
      ]
     },
     "execution_count": 316,
     "metadata": {},
     "output_type": "execute_result"
    }
   ],
   "source": [
    "Q1=df[\"Close\"].quantile(0.25)\n",
    "Q3=df[\"Close\"].quantile(0.75)\n",
    "print(Q1,Q3)\n",
    "iqr=Q3-Q1\n",
    "iqr"
   ]
  },
  {
   "cell_type": "code",
   "execution_count": 317,
   "metadata": {},
   "outputs": [
    {
     "name": "stdout",
     "output_type": "stream",
     "text": [
      "134.84062500000005 -18.344375000000028\n"
     ]
    }
   ],
   "source": [
    "upper_limit = Q3 + 1.5 * iqr\n",
    "lower_limit = Q1 - 1.5 * iqr\n",
    "print(upper_limit,lower_limit)"
   ]
  },
  {
   "cell_type": "code",
   "execution_count": 318,
   "metadata": {},
   "outputs": [
    {
     "data": {
      "text/plain": [
       "(0, 6)"
      ]
     },
     "execution_count": 318,
     "metadata": {},
     "output_type": "execute_result"
    }
   ],
   "source": [
    "new_df = df[df['Close'] < lower_limit] \n",
    "new_df.shape"
   ]
  },
  {
   "cell_type": "code",
   "execution_count": 319,
   "metadata": {},
   "outputs": [
    {
     "data": {
      "text/plain": [
       "(20, 6)"
      ]
     },
     "execution_count": 319,
     "metadata": {},
     "output_type": "execute_result"
    }
   ],
   "source": [
    "new_df = df[df['Close'] > upper_limit] \n",
    "new_df.shape"
   ]
  },
  {
   "cell_type": "markdown",
   "metadata": {},
   "source": [
    "# Trimming outliers"
   ]
  },
  {
   "cell_type": "code",
   "execution_count": 320,
   "metadata": {},
   "outputs": [
    {
     "data": {
      "text/plain": [
       "(1239, 6)"
      ]
     },
     "execution_count": 320,
     "metadata": {},
     "output_type": "execute_result"
    }
   ],
   "source": [
    "new_df = df[df['Close'] < upper_limit] \n",
    "new_df.shape"
   ]
  },
  {
   "cell_type": "code",
   "execution_count": 321,
   "metadata": {},
   "outputs": [
    {
     "name": "stderr",
     "output_type": "stream",
     "text": [
      "C:\\Users\\rmkis\\anaconda3\\lib\\site-packages\\seaborn\\distributions.py:2551: FutureWarning: `distplot` is a deprecated function and will be removed in a future version. Please adapt your code to use either `displot` (a figure-level function with similar flexibility) or `histplot` (an axes-level function for histograms).\n",
      "  warnings.warn(msg, FutureWarning)\n",
      "C:\\Users\\rmkis\\anaconda3\\lib\\site-packages\\seaborn\\_decorators.py:36: FutureWarning: Pass the following variable as a keyword arg: x. From version 0.12, the only valid positional argument will be `data`, and passing other arguments without an explicit keyword will result in an error or misinterpretation.\n",
      "  warnings.warn(\n",
      "C:\\Users\\rmkis\\anaconda3\\lib\\site-packages\\seaborn\\distributions.py:2551: FutureWarning: `distplot` is a deprecated function and will be removed in a future version. Please adapt your code to use either `displot` (a figure-level function with similar flexibility) or `histplot` (an axes-level function for histograms).\n",
      "  warnings.warn(msg, FutureWarning)\n",
      "C:\\Users\\rmkis\\anaconda3\\lib\\site-packages\\seaborn\\_decorators.py:36: FutureWarning: Pass the following variable as a keyword arg: x. From version 0.12, the only valid positional argument will be `data`, and passing other arguments without an explicit keyword will result in an error or misinterpretation.\n",
      "  warnings.warn(\n"
     ]
    },
    {
     "data": {
      "image/png": "[encoded data removed]",
      "text/plain": [
       "<Figure size 1152x576 with 4 Axes>"
      ]
     },
     "metadata": {
      "needs_background": "light"
     },
     "output_type": "display_data"
    }
   ],
   "source": [
    "plt.figure(figsize=(16,8))\n",
    "plt.subplot(2,2,1)\n",
    "sns.distplot(df['Close'])\n",
    "plt.subplot(2,2,2)\n",
    "sns.boxplot(df['Close'])\n",
    "plt.subplot(2,2,3)\n",
    "sns.distplot(new_df['Close'])\n",
    "plt.subplot(2,2,4)\n",
    "sns.boxplot(new_df['Close'])\n",
    "plt.show()"
   ]
  },
  {
   "cell_type": "markdown",
   "metadata": {},
   "source": [
    "# Capping Outliers"
   ]
  },
  {
   "cell_type": "code",
   "execution_count": 322,
   "metadata": {},
   "outputs": [],
   "source": [
    "new_df_cap = df.copy()\n",
    "new_df_cap['Close'] = np.where(\n",
    "    new_df_cap['Close'] > upper_limit,upper_limit,\n",
    "    np.where(new_df_cap['Close'] < lower_limit,lower_limit,\n",
    "        new_df_cap['Close']\n",
    "    )\n",
    ")"
   ]
  },
  {
   "cell_type": "code",
   "execution_count": 323,
   "metadata": {},
   "outputs": [
    {
     "name": "stderr",
     "output_type": "stream",
     "text": [
      "C:\\Users\\rmkis\\anaconda3\\lib\\site-packages\\seaborn\\distributions.py:2551: FutureWarning: `distplot` is a deprecated function and will be removed in a future version. Please adapt your code to use either `displot` (a figure-level function with similar flexibility) or `histplot` (an axes-level function for histograms).\n",
      "  warnings.warn(msg, FutureWarning)\n",
      "C:\\Users\\rmkis\\anaconda3\\lib\\site-packages\\seaborn\\_decorators.py:36: FutureWarning: Pass the following variable as a keyword arg: x. From version 0.12, the only valid positional argument will be `data`, and passing other arguments without an explicit keyword will result in an error or misinterpretation.\n",
      "  warnings.warn(\n",
      "C:\\Users\\rmkis\\anaconda3\\lib\\site-packages\\seaborn\\distributions.py:2551: FutureWarning: `distplot` is a deprecated function and will be removed in a future version. Please adapt your code to use either `displot` (a figure-level function with similar flexibility) or `histplot` (an axes-level function for histograms).\n",
      "  warnings.warn(msg, FutureWarning)\n",
      "C:\\Users\\rmkis\\anaconda3\\lib\\site-packages\\seaborn\\_decorators.py:36: FutureWarning: Pass the following variable as a keyword arg: x. From version 0.12, the only valid positional argument will be `data`, and passing other arguments without an explicit keyword will result in an error or misinterpretation.\n",
      "  warnings.warn(\n"
     ]
    },
    {
     "data": {
      "image/png": "[encoded data removed]",
      "text/plain": [
       "<Figure size 1152x576 with 4 Axes>"
      ]
     },
     "metadata": {
      "needs_background": "light"
     },
     "output_type": "display_data"
    }
   ],
   "source": [
    "plt.figure(figsize=(16,8))\n",
    "plt.subplot(2,2,1)\n",
    "sns.distplot(df['Close'])\n",
    "plt.subplot(2,2,2)\n",
    "sns.boxplot(df['Close'])\n",
    "plt.subplot(2,2,3)\n",
    "sns.distplot(new_df_cap['Close'])\n",
    "plt.subplot(2,2,4)\n",
    "sns.boxplot(new_df_cap['Close'])\n",
    "plt.show()"
   ]
  },
  {
   "cell_type": "markdown",
   "metadata": {},
   "source": [
    "# Reading Headlines Dataset"
   ]
  },
  {
   "cell_type": "code",
   "execution_count": 324,
   "metadata": {},
   "outputs": [],
   "source": [
    "df15=pd.read_csv(r\"C:\\Users\\rmkis\\Desktop\\Datasets\\2015.csv\",encoding='ISO-8859-1')\n",
    "df16=pd.read_csv(r\"C:\\Users\\rmkis\\Desktop\\Datasets\\2016.csv\",encoding='ISO-8859-1')\n",
    "df17=pd.read_csv(r\"C:\\Users\\rmkis\\Desktop\\Datasets\\2017.csv\",encoding='ISO-8859-1')\n",
    "df18=pd.read_csv(r\"C:\\Users\\rmkis\\Desktop\\Datasets\\2018.csv\",encoding='ISO-8859-1')\n",
    "df19=pd.read_csv(r\"C:\\Users\\rmkis\\Desktop\\Datasets\\2019.csv\",encoding='ISO-8859-1')\n",
    "df20=pd.read_csv(r\"C:\\Users\\rmkis\\Desktop\\Datasets\\2020.csv\",encoding='ISO-8859-1')\n",
    "df21=pd.read_csv(r\"C:\\Users\\rmkis\\Desktop\\Datasets\\2021.csv\",encoding='ISO-8859-1')"
   ]
  },
  {
   "cell_type": "code",
   "execution_count": 325,
   "metadata": {},
   "outputs": [],
   "source": [
    "df1=pd.concat([df15,df16,df17,df18,df19,df20,df21])"
   ]
  },
  {
   "cell_type": "code",
   "execution_count": 326,
   "metadata": {},
   "outputs": [
    {
     "data": {
      "text/html": [
       "<div>\n",
       "<style scoped>\n",
       "    .dataframe tbody tr th:only-of-type {\n",
       "        vertical-align: middle;\n",
       "    }\n",
       "\n",
       "    .dataframe tbody tr th {\n",
       "        vertical-align: top;\n",
       "    }\n",
       "\n",
       "    .dataframe thead th {\n",
       "        text-align: right;\n",
       "    }\n",
       "</style>\n",
       "<table border=\"1\" class=\"dataframe\">\n",
       "  <thead>\n",
       "    <tr style=\"text-align: right;\">\n",
       "      <th></th>\n",
       "      <th>Date</th>\n",
       "      <th>Headlines</th>\n",
       "    </tr>\n",
       "  </thead>\n",
       "  <tbody>\n",
       "    <tr>\n",
       "      <th>0</th>\n",
       "      <td>2015-01-01</td>\n",
       "      <td>What Can We Expect From Apple Inc. In 2015? 1 ...</td>\n",
       "    </tr>\n",
       "    <tr>\n",
       "      <th>1</th>\n",
       "      <td>2015-01-02</td>\n",
       "      <td>What to expect from Apple in 2015 beyond its s...</td>\n",
       "    </tr>\n",
       "    <tr>\n",
       "      <th>2</th>\n",
       "      <td>2015-01-03</td>\n",
       "      <td>Mountie: An inexpensive and innovative way to ...</td>\n",
       "    </tr>\n",
       "    <tr>\n",
       "      <th>3</th>\n",
       "      <td>2015-01-04</td>\n",
       "      <td>Donald Yacktman on the Sources of Moats, His C...</td>\n",
       "    </tr>\n",
       "    <tr>\n",
       "      <th>4</th>\n",
       "      <td>2015-01-05</td>\n",
       "      <td>SIM-free iPhone 6, 6 Plus reportedly debuting ...</td>\n",
       "    </tr>\n",
       "    <tr>\n",
       "      <th>...</th>\n",
       "      <td>...</td>\n",
       "      <td>...</td>\n",
       "    </tr>\n",
       "    <tr>\n",
       "      <th>169</th>\n",
       "      <td>2021-06-19</td>\n",
       "      <td>Best pre-Prime Day smartwatch deals on Apple W...</td>\n",
       "    </tr>\n",
       "    <tr>\n",
       "      <th>170</th>\n",
       "      <td>2021-06-20</td>\n",
       "      <td>iPhone 13 rumors: As Apple's fall event gets c...</td>\n",
       "    </tr>\n",
       "    <tr>\n",
       "      <th>171</th>\n",
       "      <td>2021-06-21</td>\n",
       "      <td>Apple is shortening new free TV Plus trials fr...</td>\n",
       "    </tr>\n",
       "    <tr>\n",
       "      <th>172</th>\n",
       "      <td>2021-06-22</td>\n",
       "      <td>Google likely to soon face antitrust claims ov...</td>\n",
       "    </tr>\n",
       "    <tr>\n",
       "      <th>173</th>\n",
       "      <td>2021-06-23</td>\n",
       "      <td>French court sets date in Apple case over App ...</td>\n",
       "    </tr>\n",
       "  </tbody>\n",
       "</table>\n",
       "<p>2365 rows × 2 columns</p>\n",
       "</div>"
      ],
      "text/plain": [
       "           Date                                          Headlines\n",
       "0    2015-01-01  What Can We Expect From Apple Inc. In 2015? 1 ...\n",
       "1    2015-01-02  What to expect from Apple in 2015 beyond its s...\n",
       "2    2015-01-03  Mountie: An inexpensive and innovative way to ...\n",
       "3    2015-01-04  Donald Yacktman on the Sources of Moats, His C...\n",
       "4    2015-01-05  SIM-free iPhone 6, 6 Plus reportedly debuting ...\n",
       "..          ...                                                ...\n",
       "169  2021-06-19  Best pre-Prime Day smartwatch deals on Apple W...\n",
       "170  2021-06-20  iPhone 13 rumors: As Apple's fall event gets c...\n",
       "171  2021-06-21  Apple is shortening new free TV Plus trials fr...\n",
       "172  2021-06-22  Google likely to soon face antitrust claims ov...\n",
       "173  2021-06-23  French court sets date in Apple case over App ...\n",
       "\n",
       "[2365 rows x 2 columns]"
      ]
     },
     "execution_count": 326,
     "metadata": {},
     "output_type": "execute_result"
    }
   ],
   "source": [
    "df1"
   ]
  },
  {
   "cell_type": "code",
   "execution_count": 327,
   "metadata": {},
   "outputs": [
    {
     "data": {
      "text/plain": [
       "Date         object\n",
       "Headlines    object\n",
       "dtype: object"
      ]
     },
     "execution_count": 327,
     "metadata": {},
     "output_type": "execute_result"
    }
   ],
   "source": [
    "df1.dtypes"
   ]
  },
  {
   "cell_type": "code",
   "execution_count": 328,
   "metadata": {},
   "outputs": [],
   "source": [
    "df1['Date']=pd.to_datetime(df1['Date'],format='%Y/%m/%d')"
   ]
  },
  {
   "cell_type": "code",
   "execution_count": 329,
   "metadata": {},
   "outputs": [],
   "source": [
    "df1[\"Headlines\"]=df1[\"Headlines\"].astype(str)\n",
    "df1['Headlines']=df1['Headlines'].apply(lambda x: x.lower())"
   ]
  },
  {
   "cell_type": "markdown",
   "metadata": {},
   "source": [
    "# Removing Punctuations and Stopwords"
   ]
  },
  {
   "cell_type": "code",
   "execution_count": 330,
   "metadata": {},
   "outputs": [
    {
     "data": {
      "text/html": [
       "<div>\n",
       "<style scoped>\n",
       "    .dataframe tbody tr th:only-of-type {\n",
       "        vertical-align: middle;\n",
       "    }\n",
       "\n",
       "    .dataframe tbody tr th {\n",
       "        vertical-align: top;\n",
       "    }\n",
       "\n",
       "    .dataframe thead th {\n",
       "        text-align: right;\n",
       "    }\n",
       "</style>\n",
       "<table border=\"1\" class=\"dataframe\">\n",
       "  <thead>\n",
       "    <tr style=\"text-align: right;\">\n",
       "      <th></th>\n",
       "      <th>Date</th>\n",
       "      <th>Headlines</th>\n",
       "    </tr>\n",
       "  </thead>\n",
       "  <tbody>\n",
       "    <tr>\n",
       "      <th>0</th>\n",
       "      <td>2015-01-01</td>\n",
       "      <td>what can we expect from apple inc in 2015 1 re...</td>\n",
       "    </tr>\n",
       "    <tr>\n",
       "      <th>1</th>\n",
       "      <td>2015-01-02</td>\n",
       "      <td>what to expect from apple in 2015 beyond its s...</td>\n",
       "    </tr>\n",
       "    <tr>\n",
       "      <th>2</th>\n",
       "      <td>2015-01-03</td>\n",
       "      <td>mountie an inexpensive and innovative way to a...</td>\n",
       "    </tr>\n",
       "    <tr>\n",
       "      <th>3</th>\n",
       "      <td>2015-01-04</td>\n",
       "      <td>donald yacktman on the sources of moats his co...</td>\n",
       "    </tr>\n",
       "    <tr>\n",
       "      <th>4</th>\n",
       "      <td>2015-01-05</td>\n",
       "      <td>simfree iphone 6 6 plus reportedly debuting to...</td>\n",
       "    </tr>\n",
       "    <tr>\n",
       "      <th>...</th>\n",
       "      <td>...</td>\n",
       "      <td>...</td>\n",
       "    </tr>\n",
       "    <tr>\n",
       "      <th>169</th>\n",
       "      <td>2021-06-19</td>\n",
       "      <td>best preprime day smartwatch deals on apple wa...</td>\n",
       "    </tr>\n",
       "    <tr>\n",
       "      <th>170</th>\n",
       "      <td>2021-06-20</td>\n",
       "      <td>iphone 13 rumors as apples fall event gets clo...</td>\n",
       "    </tr>\n",
       "    <tr>\n",
       "      <th>171</th>\n",
       "      <td>2021-06-21</td>\n",
       "      <td>apple is shortening new free tv plus trials fr...</td>\n",
       "    </tr>\n",
       "    <tr>\n",
       "      <th>172</th>\n",
       "      <td>2021-06-22</td>\n",
       "      <td>google likely to soon face antitrust claims ov...</td>\n",
       "    </tr>\n",
       "    <tr>\n",
       "      <th>173</th>\n",
       "      <td>2021-06-23</td>\n",
       "      <td>french court sets date in apple case over app ...</td>\n",
       "    </tr>\n",
       "  </tbody>\n",
       "</table>\n",
       "<p>2365 rows × 2 columns</p>\n",
       "</div>"
      ],
      "text/plain": [
       "          Date                                          Headlines\n",
       "0   2015-01-01  what can we expect from apple inc in 2015 1 re...\n",
       "1   2015-01-02  what to expect from apple in 2015 beyond its s...\n",
       "2   2015-01-03  mountie an inexpensive and innovative way to a...\n",
       "3   2015-01-04  donald yacktman on the sources of moats his co...\n",
       "4   2015-01-05  simfree iphone 6 6 plus reportedly debuting to...\n",
       "..         ...                                                ...\n",
       "169 2021-06-19  best preprime day smartwatch deals on apple wa...\n",
       "170 2021-06-20  iphone 13 rumors as apples fall event gets clo...\n",
       "171 2021-06-21  apple is shortening new free tv plus trials fr...\n",
       "172 2021-06-22  google likely to soon face antitrust claims ov...\n",
       "173 2021-06-23  french court sets date in apple case over app ...\n",
       "\n",
       "[2365 rows x 2 columns]"
      ]
     },
     "execution_count": 330,
     "metadata": {},
     "output_type": "execute_result"
    }
   ],
   "source": [
    "import string\n",
    "def punctuation_removal(text):\n",
    "    li=[char for char in text if char not in string.punctuation]\n",
    "    clean_str=''.join(li)\n",
    "    li.clear()\n",
    "    return clean_str\n",
    "df1[\"Headlines\"]=df1[\"Headlines\"].astype(str)\n",
    "df1['Headlines']=df1['Headlines'].apply(punctuation_removal)\n",
    "df1"
   ]
  },
  {
   "cell_type": "code",
   "execution_count": 331,
   "metadata": {},
   "outputs": [
    {
     "name": "stderr",
     "output_type": "stream",
     "text": [
      "[nltk_data] Downloading package stopwords to\n",
      "[nltk_data]     C:\\Users\\rmkis\\AppData\\Roaming\\nltk_data...\n",
      "[nltk_data]   Package stopwords is already up-to-date!\n"
     ]
    }
   ],
   "source": [
    "import nltk\n",
    "nltk.download('stopwords')\n",
    "from nltk.corpus import stopwords\n",
    "stop = set(stopwords.words('english'))\n",
    "df1['Headlines'] = df1['Headlines'].apply(lambda x: ' '.join([word for word in x.split() if word not in (stop)]))"
   ]
  },
  {
   "cell_type": "code",
   "execution_count": 332,
   "metadata": {},
   "outputs": [
    {
     "data": {
      "text/html": [
       "<div>\n",
       "<style scoped>\n",
       "    .dataframe tbody tr th:only-of-type {\n",
       "        vertical-align: middle;\n",
       "    }\n",
       "\n",
       "    .dataframe tbody tr th {\n",
       "        vertical-align: top;\n",
       "    }\n",
       "\n",
       "    .dataframe thead th {\n",
       "        text-align: right;\n",
       "    }\n",
       "</style>\n",
       "<table border=\"1\" class=\"dataframe\">\n",
       "  <thead>\n",
       "    <tr style=\"text-align: right;\">\n",
       "      <th></th>\n",
       "      <th>Date</th>\n",
       "      <th>Headlines</th>\n",
       "    </tr>\n",
       "  </thead>\n",
       "  <tbody>\n",
       "    <tr>\n",
       "      <th>0</th>\n",
       "      <td>2015-01-01</td>\n",
       "      <td>expect apple inc 2015 1 reason might wrong app...</td>\n",
       "    </tr>\n",
       "    <tr>\n",
       "      <th>1</th>\n",
       "      <td>2015-01-02</td>\n",
       "      <td>expect apple 2015 beyond smartwatch amazonquot...</td>\n",
       "    </tr>\n",
       "    <tr>\n",
       "      <th>2</th>\n",
       "      <td>2015-01-03</td>\n",
       "      <td>mountie inexpensive innovative way attach ipho...</td>\n",
       "    </tr>\n",
       "    <tr>\n",
       "      <th>3</th>\n",
       "      <td>2015-01-04</td>\n",
       "      <td>donald yacktman sources moats concern applequo...</td>\n",
       "    </tr>\n",
       "    <tr>\n",
       "      <th>4</th>\n",
       "      <td>2015-01-05</td>\n",
       "      <td>simfree iphone 6 6 plus reportedly debuting to...</td>\n",
       "    </tr>\n",
       "    <tr>\n",
       "      <th>...</th>\n",
       "      <td>...</td>\n",
       "      <td>...</td>\n",
       "    </tr>\n",
       "    <tr>\n",
       "      <th>169</th>\n",
       "      <td>2021-06-19</td>\n",
       "      <td>best preprime day smartwatch deals apple watch...</td>\n",
       "    </tr>\n",
       "    <tr>\n",
       "      <th>170</th>\n",
       "      <td>2021-06-20</td>\n",
       "      <td>iphone 13 rumors apples fall event gets closer...</td>\n",
       "    </tr>\n",
       "    <tr>\n",
       "      <th>171</th>\n",
       "      <td>2021-06-21</td>\n",
       "      <td>apple shortening new free tv plus trials year ...</td>\n",
       "    </tr>\n",
       "    <tr>\n",
       "      <th>172</th>\n",
       "      <td>2021-06-22</td>\n",
       "      <td>google likely soon face antitrust claims play ...</td>\n",
       "    </tr>\n",
       "    <tr>\n",
       "      <th>173</th>\n",
       "      <td>2021-06-23</td>\n",
       "      <td>french court sets date apple case app store de...</td>\n",
       "    </tr>\n",
       "  </tbody>\n",
       "</table>\n",
       "<p>2365 rows × 2 columns</p>\n",
       "</div>"
      ],
      "text/plain": [
       "          Date                                          Headlines\n",
       "0   2015-01-01  expect apple inc 2015 1 reason might wrong app...\n",
       "1   2015-01-02  expect apple 2015 beyond smartwatch amazonquot...\n",
       "2   2015-01-03  mountie inexpensive innovative way attach ipho...\n",
       "3   2015-01-04  donald yacktman sources moats concern applequo...\n",
       "4   2015-01-05  simfree iphone 6 6 plus reportedly debuting to...\n",
       "..         ...                                                ...\n",
       "169 2021-06-19  best preprime day smartwatch deals apple watch...\n",
       "170 2021-06-20  iphone 13 rumors apples fall event gets closer...\n",
       "171 2021-06-21  apple shortening new free tv plus trials year ...\n",
       "172 2021-06-22  google likely soon face antitrust claims play ...\n",
       "173 2021-06-23  french court sets date apple case app store de...\n",
       "\n",
       "[2365 rows x 2 columns]"
      ]
     },
     "execution_count": 332,
     "metadata": {},
     "output_type": "execute_result"
    }
   ],
   "source": [
    "df1"
   ]
  },
  {
   "cell_type": "code",
   "execution_count": 333,
   "metadata": {},
   "outputs": [
    {
     "name": "stderr",
     "output_type": "stream",
     "text": [
      "[nltk_data] Downloading package punkt to\n",
      "[nltk_data]     C:\\Users\\rmkis\\AppData\\Roaming\\nltk_data...\n",
      "[nltk_data]   Package punkt is already up-to-date!\n",
      "[nltk_data] Downloading package wordnet to\n",
      "[nltk_data]     C:\\Users\\rmkis\\AppData\\Roaming\\nltk_data...\n",
      "[nltk_data]   Package wordnet is already up-to-date!\n"
     ]
    }
   ],
   "source": [
    "import nltk\n",
    "nltk.download('punkt')\n",
    "nltk.download('wordnet')\n",
    "from nltk.tokenize import word_tokenize\n",
    "from nltk.stem import WordNetLemmatizer\n",
    "def split_to_lemma(text):\n",
    "    lemma=WordNetLemmatizer()\n",
    "    words=word_tokenize(text)\n",
    "    return ' '.join([lemma.lemmatize(word) for word in words])\n",
    "df1['Headlines'] = df1['Headlines'].apply(split_to_lemma)"
   ]
  },
  {
   "cell_type": "code",
   "execution_count": 334,
   "metadata": {},
   "outputs": [
    {
     "data": {
      "text/html": [
       "<div>\n",
       "<style scoped>\n",
       "    .dataframe tbody tr th:only-of-type {\n",
       "        vertical-align: middle;\n",
       "    }\n",
       "\n",
       "    .dataframe tbody tr th {\n",
       "        vertical-align: top;\n",
       "    }\n",
       "\n",
       "    .dataframe thead th {\n",
       "        text-align: right;\n",
       "    }\n",
       "</style>\n",
       "<table border=\"1\" class=\"dataframe\">\n",
       "  <thead>\n",
       "    <tr style=\"text-align: right;\">\n",
       "      <th></th>\n",
       "      <th>Date</th>\n",
       "      <th>Headlines</th>\n",
       "    </tr>\n",
       "  </thead>\n",
       "  <tbody>\n",
       "    <tr>\n",
       "      <th>0</th>\n",
       "      <td>2015-01-01</td>\n",
       "      <td>expect apple inc 2015 1 reason might wrong app...</td>\n",
       "    </tr>\n",
       "    <tr>\n",
       "      <th>1</th>\n",
       "      <td>2015-01-02</td>\n",
       "      <td>expect apple 2015 beyond smartwatch amazonquot...</td>\n",
       "    </tr>\n",
       "    <tr>\n",
       "      <th>2</th>\n",
       "      <td>2015-01-03</td>\n",
       "      <td>mountie inexpensive innovative way attach ipho...</td>\n",
       "    </tr>\n",
       "    <tr>\n",
       "      <th>3</th>\n",
       "      <td>2015-01-04</td>\n",
       "      <td>donald yacktman source moat concern applequots...</td>\n",
       "    </tr>\n",
       "    <tr>\n",
       "      <th>4</th>\n",
       "      <td>2015-01-05</td>\n",
       "      <td>simfree iphone 6 6 plus reportedly debuting to...</td>\n",
       "    </tr>\n",
       "    <tr>\n",
       "      <th>...</th>\n",
       "      <td>...</td>\n",
       "      <td>...</td>\n",
       "    </tr>\n",
       "    <tr>\n",
       "      <th>169</th>\n",
       "      <td>2021-06-19</td>\n",
       "      <td>best preprime day smartwatch deal apple watch ...</td>\n",
       "    </tr>\n",
       "    <tr>\n",
       "      <th>170</th>\n",
       "      <td>2021-06-20</td>\n",
       "      <td>iphone 13 rumor apple fall event get closer se...</td>\n",
       "    </tr>\n",
       "    <tr>\n",
       "      <th>171</th>\n",
       "      <td>2021-06-21</td>\n",
       "      <td>apple shortening new free tv plus trial year t...</td>\n",
       "    </tr>\n",
       "    <tr>\n",
       "      <th>172</th>\n",
       "      <td>2021-06-22</td>\n",
       "      <td>google likely soon face antitrust claim play s...</td>\n",
       "    </tr>\n",
       "    <tr>\n",
       "      <th>173</th>\n",
       "      <td>2021-06-23</td>\n",
       "      <td>french court set date apple case app store dev...</td>\n",
       "    </tr>\n",
       "  </tbody>\n",
       "</table>\n",
       "<p>2365 rows × 2 columns</p>\n",
       "</div>"
      ],
      "text/plain": [
       "          Date                                          Headlines\n",
       "0   2015-01-01  expect apple inc 2015 1 reason might wrong app...\n",
       "1   2015-01-02  expect apple 2015 beyond smartwatch amazonquot...\n",
       "2   2015-01-03  mountie inexpensive innovative way attach ipho...\n",
       "3   2015-01-04  donald yacktman source moat concern applequots...\n",
       "4   2015-01-05  simfree iphone 6 6 plus reportedly debuting to...\n",
       "..         ...                                                ...\n",
       "169 2021-06-19  best preprime day smartwatch deal apple watch ...\n",
       "170 2021-06-20  iphone 13 rumor apple fall event get closer se...\n",
       "171 2021-06-21  apple shortening new free tv plus trial year t...\n",
       "172 2021-06-22  google likely soon face antitrust claim play s...\n",
       "173 2021-06-23  french court set date apple case app store dev...\n",
       "\n",
       "[2365 rows x 2 columns]"
      ]
     },
     "execution_count": 334,
     "metadata": {},
     "output_type": "execute_result"
    }
   ],
   "source": [
    "df1"
   ]
  },
  {
   "cell_type": "markdown",
   "metadata": {},
   "source": [
    "# Merging both Datasets"
   ]
  },
  {
   "cell_type": "code",
   "execution_count": 335,
   "metadata": {},
   "outputs": [],
   "source": [
    "df=pd.merge(df,df1,on=['Date'],how='outer')"
   ]
  },
  {
   "cell_type": "code",
   "execution_count": 336,
   "metadata": {},
   "outputs": [
    {
     "data": {
      "text/html": [
       "<div>\n",
       "<style scoped>\n",
       "    .dataframe tbody tr th:only-of-type {\n",
       "        vertical-align: middle;\n",
       "    }\n",
       "\n",
       "    .dataframe tbody tr th {\n",
       "        vertical-align: top;\n",
       "    }\n",
       "\n",
       "    .dataframe thead th {\n",
       "        text-align: right;\n",
       "    }\n",
       "</style>\n",
       "<table border=\"1\" class=\"dataframe\">\n",
       "  <thead>\n",
       "    <tr style=\"text-align: right;\">\n",
       "      <th></th>\n",
       "      <th>Date</th>\n",
       "      <th>Close</th>\n",
       "      <th>Volume</th>\n",
       "      <th>Open</th>\n",
       "      <th>High</th>\n",
       "      <th>Low</th>\n",
       "      <th>Headlines</th>\n",
       "    </tr>\n",
       "  </thead>\n",
       "  <tbody>\n",
       "    <tr>\n",
       "      <th>0</th>\n",
       "      <td>2021-07-02</td>\n",
       "      <td>139.96</td>\n",
       "      <td>78945570.0</td>\n",
       "      <td>137.90</td>\n",
       "      <td>140.000</td>\n",
       "      <td>137.745</td>\n",
       "      <td>NaN</td>\n",
       "    </tr>\n",
       "    <tr>\n",
       "      <th>1</th>\n",
       "      <td>2021-07-01</td>\n",
       "      <td>137.27</td>\n",
       "      <td>52485780.0</td>\n",
       "      <td>136.60</td>\n",
       "      <td>137.330</td>\n",
       "      <td>135.760</td>\n",
       "      <td>NaN</td>\n",
       "    </tr>\n",
       "    <tr>\n",
       "      <th>2</th>\n",
       "      <td>2021-06-30</td>\n",
       "      <td>136.96</td>\n",
       "      <td>63261390.0</td>\n",
       "      <td>136.17</td>\n",
       "      <td>137.410</td>\n",
       "      <td>135.870</td>\n",
       "      <td>NaN</td>\n",
       "    </tr>\n",
       "    <tr>\n",
       "      <th>3</th>\n",
       "      <td>2021-06-29</td>\n",
       "      <td>136.33</td>\n",
       "      <td>64556080.0</td>\n",
       "      <td>134.80</td>\n",
       "      <td>136.490</td>\n",
       "      <td>134.350</td>\n",
       "      <td>NaN</td>\n",
       "    </tr>\n",
       "    <tr>\n",
       "      <th>4</th>\n",
       "      <td>2021-06-28</td>\n",
       "      <td>134.78</td>\n",
       "      <td>62111300.0</td>\n",
       "      <td>133.41</td>\n",
       "      <td>135.245</td>\n",
       "      <td>133.350</td>\n",
       "      <td>NaN</td>\n",
       "    </tr>\n",
       "    <tr>\n",
       "      <th>...</th>\n",
       "      <td>...</td>\n",
       "      <td>...</td>\n",
       "      <td>...</td>\n",
       "      <td>...</td>\n",
       "      <td>...</td>\n",
       "      <td>...</td>\n",
       "      <td>...</td>\n",
       "    </tr>\n",
       "    <tr>\n",
       "      <th>2390</th>\n",
       "      <td>2021-06-06</td>\n",
       "      <td>NaN</td>\n",
       "      <td>NaN</td>\n",
       "      <td>NaN</td>\n",
       "      <td>NaN</td>\n",
       "      <td>NaN</td>\n",
       "      <td>facebookquots trump ban last least 2 year glob...</td>\n",
       "    </tr>\n",
       "    <tr>\n",
       "      <th>2391</th>\n",
       "      <td>2021-06-12</td>\n",
       "      <td>NaN</td>\n",
       "      <td>NaN</td>\n",
       "      <td>NaN</td>\n",
       "      <td>NaN</td>\n",
       "      <td>NaN</td>\n",
       "      <td>japan start antitrust probe apple google nikke...</td>\n",
       "    </tr>\n",
       "    <tr>\n",
       "      <th>2392</th>\n",
       "      <td>2021-06-13</td>\n",
       "      <td>NaN</td>\n",
       "      <td>NaN</td>\n",
       "      <td>NaN</td>\n",
       "      <td>NaN</td>\n",
       "      <td>NaN</td>\n",
       "      <td>watch next oil crisis sector watch apple store...</td>\n",
       "    </tr>\n",
       "    <tr>\n",
       "      <th>2393</th>\n",
       "      <td>2021-06-19</td>\n",
       "      <td>NaN</td>\n",
       "      <td>NaN</td>\n",
       "      <td>NaN</td>\n",
       "      <td>NaN</td>\n",
       "      <td>NaN</td>\n",
       "      <td>best preprime day smartwatch deal apple watch ...</td>\n",
       "    </tr>\n",
       "    <tr>\n",
       "      <th>2394</th>\n",
       "      <td>2021-06-20</td>\n",
       "      <td>NaN</td>\n",
       "      <td>NaN</td>\n",
       "      <td>NaN</td>\n",
       "      <td>NaN</td>\n",
       "      <td>NaN</td>\n",
       "      <td>iphone 13 rumor apple fall event get closer se...</td>\n",
       "    </tr>\n",
       "  </tbody>\n",
       "</table>\n",
       "<p>2395 rows × 7 columns</p>\n",
       "</div>"
      ],
      "text/plain": [
       "           Date   Close      Volume    Open     High      Low  \\\n",
       "0    2021-07-02  139.96  78945570.0  137.90  140.000  137.745   \n",
       "1    2021-07-01  137.27  52485780.0  136.60  137.330  135.760   \n",
       "2    2021-06-30  136.96  63261390.0  136.17  137.410  135.870   \n",
       "3    2021-06-29  136.33  64556080.0  134.80  136.490  134.350   \n",
       "4    2021-06-28  134.78  62111300.0  133.41  135.245  133.350   \n",
       "...         ...     ...         ...     ...      ...      ...   \n",
       "2390 2021-06-06     NaN         NaN     NaN      NaN      NaN   \n",
       "2391 2021-06-12     NaN         NaN     NaN      NaN      NaN   \n",
       "2392 2021-06-13     NaN         NaN     NaN      NaN      NaN   \n",
       "2393 2021-06-19     NaN         NaN     NaN      NaN      NaN   \n",
       "2394 2021-06-20     NaN         NaN     NaN      NaN      NaN   \n",
       "\n",
       "                                              Headlines  \n",
       "0                                                   NaN  \n",
       "1                                                   NaN  \n",
       "2                                                   NaN  \n",
       "3                                                   NaN  \n",
       "4                                                   NaN  \n",
       "...                                                 ...  \n",
       "2390  facebookquots trump ban last least 2 year glob...  \n",
       "2391  japan start antitrust probe apple google nikke...  \n",
       "2392  watch next oil crisis sector watch apple store...  \n",
       "2393  best preprime day smartwatch deal apple watch ...  \n",
       "2394  iphone 13 rumor apple fall event get closer se...  \n",
       "\n",
       "[2395 rows x 7 columns]"
      ]
     },
     "execution_count": 336,
     "metadata": {},
     "output_type": "execute_result"
    }
   ],
   "source": [
    "df"
   ]
  },
  {
   "cell_type": "markdown",
   "metadata": {},
   "source": [
    "# Handling Null Values"
   ]
  },
  {
   "cell_type": "code",
   "execution_count": 337,
   "metadata": {},
   "outputs": [
    {
     "data": {
      "text/plain": [
       "Date            0\n",
       "Close        1116\n",
       "Volume       1116\n",
       "Open         1116\n",
       "High         1116\n",
       "Low          1116\n",
       "Headlines      30\n",
       "dtype: int64"
      ]
     },
     "execution_count": 337,
     "metadata": {},
     "output_type": "execute_result"
    }
   ],
   "source": [
    "df.isnull().sum()"
   ]
  },
  {
   "cell_type": "code",
   "execution_count": 338,
   "metadata": {},
   "outputs": [],
   "source": [
    "Close_mean=df[\"Close\"].mean()\n",
    "Volume_mean=df[\"Volume\"].mean()\n",
    "Open_mean=df[\"Open\"].mean()\n",
    "High_mean=df[\"High\"].mean()\n",
    "Low_mean=df[\"Low\"].mean()"
   ]
  },
  {
   "cell_type": "code",
   "execution_count": 339,
   "metadata": {},
   "outputs": [],
   "source": [
    "df['Close'].fillna(value=Close_mean,inplace=True)\n",
    "df['Volume'].fillna(value=Volume_mean,inplace=True)\n",
    "df['Open'].fillna(value=Open_mean,inplace=True)\n",
    "df['High'].fillna(value=High_mean,inplace=True)\n",
    "df['Low'].fillna(value=Low_mean,inplace=True)"
   ]
  },
  {
   "cell_type": "code",
   "execution_count": 340,
   "metadata": {},
   "outputs": [],
   "source": [
    "df=df.dropna()"
   ]
  },
  {
   "cell_type": "code",
   "execution_count": 341,
   "metadata": {},
   "outputs": [
    {
     "data": {
      "text/html": [
       "<div>\n",
       "<style scoped>\n",
       "    .dataframe tbody tr th:only-of-type {\n",
       "        vertical-align: middle;\n",
       "    }\n",
       "\n",
       "    .dataframe tbody tr th {\n",
       "        vertical-align: top;\n",
       "    }\n",
       "\n",
       "    .dataframe thead th {\n",
       "        text-align: right;\n",
       "    }\n",
       "</style>\n",
       "<table border=\"1\" class=\"dataframe\">\n",
       "  <thead>\n",
       "    <tr style=\"text-align: right;\">\n",
       "      <th></th>\n",
       "      <th>Date</th>\n",
       "      <th>Close</th>\n",
       "      <th>Volume</th>\n",
       "      <th>Open</th>\n",
       "      <th>High</th>\n",
       "      <th>Low</th>\n",
       "      <th>Headlines</th>\n",
       "    </tr>\n",
       "  </thead>\n",
       "  <tbody>\n",
       "    <tr>\n",
       "      <th>7</th>\n",
       "      <td>2021-06-23</td>\n",
       "      <td>133.700000</td>\n",
       "      <td>6.021420e+07</td>\n",
       "      <td>133.770000</td>\n",
       "      <td>134.320000</td>\n",
       "      <td>133.230000</td>\n",
       "      <td>french court set date apple case app store dev...</td>\n",
       "    </tr>\n",
       "    <tr>\n",
       "      <th>8</th>\n",
       "      <td>2021-06-22</td>\n",
       "      <td>133.980000</td>\n",
       "      <td>7.478362e+07</td>\n",
       "      <td>132.130000</td>\n",
       "      <td>134.080000</td>\n",
       "      <td>131.620000</td>\n",
       "      <td>google likely soon face antitrust claim play s...</td>\n",
       "    </tr>\n",
       "    <tr>\n",
       "      <th>9</th>\n",
       "      <td>2021-06-21</td>\n",
       "      <td>132.300000</td>\n",
       "      <td>7.966332e+07</td>\n",
       "      <td>130.300000</td>\n",
       "      <td>132.410000</td>\n",
       "      <td>129.210000</td>\n",
       "      <td>apple shortening new free tv plus trial year t...</td>\n",
       "    </tr>\n",
       "    <tr>\n",
       "      <th>10</th>\n",
       "      <td>2021-06-18</td>\n",
       "      <td>130.460000</td>\n",
       "      <td>1.089533e+08</td>\n",
       "      <td>130.710000</td>\n",
       "      <td>131.510000</td>\n",
       "      <td>130.240000</td>\n",
       "      <td>well fargo update bestideas signature pick lis...</td>\n",
       "    </tr>\n",
       "    <tr>\n",
       "      <th>11</th>\n",
       "      <td>2021-06-17</td>\n",
       "      <td>131.790000</td>\n",
       "      <td>9.672167e+07</td>\n",
       "      <td>129.800000</td>\n",
       "      <td>132.550000</td>\n",
       "      <td>129.650000</td>\n",
       "      <td>apple award grant computer chip course histori...</td>\n",
       "    </tr>\n",
       "    <tr>\n",
       "      <th>...</th>\n",
       "      <td>...</td>\n",
       "      <td>...</td>\n",
       "      <td>...</td>\n",
       "      <td>...</td>\n",
       "      <td>...</td>\n",
       "      <td>...</td>\n",
       "      <td>...</td>\n",
       "    </tr>\n",
       "    <tr>\n",
       "      <th>2390</th>\n",
       "      <td>2021-06-06</td>\n",
       "      <td>62.229443</td>\n",
       "      <td>1.251431e+08</td>\n",
       "      <td>62.189158</td>\n",
       "      <td>62.858732</td>\n",
       "      <td>61.533235</td>\n",
       "      <td>facebookquots trump ban last least 2 year glob...</td>\n",
       "    </tr>\n",
       "    <tr>\n",
       "      <th>2391</th>\n",
       "      <td>2021-06-12</td>\n",
       "      <td>62.229443</td>\n",
       "      <td>1.251431e+08</td>\n",
       "      <td>62.189158</td>\n",
       "      <td>62.858732</td>\n",
       "      <td>61.533235</td>\n",
       "      <td>japan start antitrust probe apple google nikke...</td>\n",
       "    </tr>\n",
       "    <tr>\n",
       "      <th>2392</th>\n",
       "      <td>2021-06-13</td>\n",
       "      <td>62.229443</td>\n",
       "      <td>1.251431e+08</td>\n",
       "      <td>62.189158</td>\n",
       "      <td>62.858732</td>\n",
       "      <td>61.533235</td>\n",
       "      <td>watch next oil crisis sector watch apple store...</td>\n",
       "    </tr>\n",
       "    <tr>\n",
       "      <th>2393</th>\n",
       "      <td>2021-06-19</td>\n",
       "      <td>62.229443</td>\n",
       "      <td>1.251431e+08</td>\n",
       "      <td>62.189158</td>\n",
       "      <td>62.858732</td>\n",
       "      <td>61.533235</td>\n",
       "      <td>best preprime day smartwatch deal apple watch ...</td>\n",
       "    </tr>\n",
       "    <tr>\n",
       "      <th>2394</th>\n",
       "      <td>2021-06-20</td>\n",
       "      <td>62.229443</td>\n",
       "      <td>1.251431e+08</td>\n",
       "      <td>62.189158</td>\n",
       "      <td>62.858732</td>\n",
       "      <td>61.533235</td>\n",
       "      <td>iphone 13 rumor apple fall event get closer se...</td>\n",
       "    </tr>\n",
       "  </tbody>\n",
       "</table>\n",
       "<p>2365 rows × 7 columns</p>\n",
       "</div>"
      ],
      "text/plain": [
       "           Date       Close        Volume        Open        High         Low  \\\n",
       "7    2021-06-23  133.700000  6.021420e+07  133.770000  134.320000  133.230000   \n",
       "8    2021-06-22  133.980000  7.478362e+07  132.130000  134.080000  131.620000   \n",
       "9    2021-06-21  132.300000  7.966332e+07  130.300000  132.410000  129.210000   \n",
       "10   2021-06-18  130.460000  1.089533e+08  130.710000  131.510000  130.240000   \n",
       "11   2021-06-17  131.790000  9.672167e+07  129.800000  132.550000  129.650000   \n",
       "...         ...         ...           ...         ...         ...         ...   \n",
       "2390 2021-06-06   62.229443  1.251431e+08   62.189158   62.858732   61.533235   \n",
       "2391 2021-06-12   62.229443  1.251431e+08   62.189158   62.858732   61.533235   \n",
       "2392 2021-06-13   62.229443  1.251431e+08   62.189158   62.858732   61.533235   \n",
       "2393 2021-06-19   62.229443  1.251431e+08   62.189158   62.858732   61.533235   \n",
       "2394 2021-06-20   62.229443  1.251431e+08   62.189158   62.858732   61.533235   \n",
       "\n",
       "                                              Headlines  \n",
       "7     french court set date apple case app store dev...  \n",
       "8     google likely soon face antitrust claim play s...  \n",
       "9     apple shortening new free tv plus trial year t...  \n",
       "10    well fargo update bestideas signature pick lis...  \n",
       "11    apple award grant computer chip course histori...  \n",
       "...                                                 ...  \n",
       "2390  facebookquots trump ban last least 2 year glob...  \n",
       "2391  japan start antitrust probe apple google nikke...  \n",
       "2392  watch next oil crisis sector watch apple store...  \n",
       "2393  best preprime day smartwatch deal apple watch ...  \n",
       "2394  iphone 13 rumor apple fall event get closer se...  \n",
       "\n",
       "[2365 rows x 7 columns]"
      ]
     },
     "execution_count": 341,
     "metadata": {},
     "output_type": "execute_result"
    }
   ],
   "source": [
    "df"
   ]
  },
  {
   "cell_type": "code",
   "execution_count": 342,
   "metadata": {},
   "outputs": [],
   "source": [
    "hist=pd.read_csv(r\"C:\\Users\\rmkis\\Desktop\\Datasets\\hist.csv\",encoding='ISO-8859-1')\n",
    "m1=pd.read_csv(r\"C:\\Users\\rmkis\\Desktop\\Datasets\\m1.csv\",encoding='ISO-8859-1')\n",
    "m2=pd.read_csv(r\"C:\\Users\\rmkis\\Desktop\\Datasets\\m2.csv\",encoding='ISO-8859-1')\n",
    "s1=pd.read_csv(r\"C:\\Users\\rmkis\\Desktop\\Datasets\\s1.csv\",encoding='ISO-8859-1')\n",
    "s2=pd.read_csv(r\"C:\\Users\\rmkis\\Desktop\\Datasets\\s2.csv\",encoding='ISO-8859-1')\n",
    "s3=pd.read_csv(r\"C:\\Users\\rmkis\\Desktop\\Datasets\\s3.csv\",encoding='ISO-8859-1')\n",
    "s4=pd.read_csv(r\"C:\\Users\\rmkis\\Desktop\\Datasets\\s4.csv\",encoding='ISO-8859-1')\n",
    "s5=pd.read_csv(r\"C:\\Users\\rmkis\\Desktop\\Datasets\\s5.csv\",encoding='ISO-8859-1')"
   ]
  },
  {
   "cell_type": "code",
   "execution_count": 343,
   "metadata": {},
   "outputs": [
    {
     "data": {
      "text/plain": [
       "Index(['Outcome', 'Message', 'Identity', 'Delay', 'Headlines Securities CIK',\n",
       "       'Headlines Securities CUSIP', 'Headlines Securities Symbol',\n",
       "       'Headlines Securities ISIN', 'Headlines Securities Valoren',\n",
       "       'Headlines Securities Name', 'Headlines Securities Market',\n",
       "       'Headlines Securities MarketIdentificationCode',\n",
       "       'Headlines Securities MostLiquidExchange',\n",
       "       'Headlines Securities CategoryOrIndustry', 'Headlines Title',\n",
       "       'Headlines Date', 'Headlines Time', 'Headlines UTCOffset',\n",
       "       'Headlines Source', 'Headlines Url', 'Headlines Images',\n",
       "       'Headlines Tags TagType', 'Headlines Tags TagValues',\n",
       "       'Headlines PaywallType', 'Headlines Summary'],\n",
       "      dtype='object')"
      ]
     },
     "execution_count": 343,
     "metadata": {},
     "output_type": "execute_result"
    }
   ],
   "source": [
    "hist.columns"
   ]
  },
  {
   "cell_type": "code",
   "execution_count": 344,
   "metadata": {},
   "outputs": [],
   "source": [
    "hist.rename(columns={'Headlines Securities CIK':'Security CIK','Headlines Securities CUSIP':'Security CUSIP', 'Headlines Securities Symbol':'Security Symbol','Headlines Securities ISIN':'Security ISIN','Headlines Securities Valoren':'Security Valoren','Headlines Securities Name':'Security Name','Headlines Securities Market':'Security Market','Headlines Securities MarketIdentificationCode':'Security MarketIdentificationCode','Headlines Securities MostLiquidExchange':'Security MostLiquidExchange','Headlines Securities CategoryOrIndustry':'Security CategoryOrIndustry'},inplace=True)"
   ]
  },
  {
   "cell_type": "code",
   "execution_count": 345,
   "metadata": {},
   "outputs": [
    {
     "data": {
      "text/plain": [
       "Index(['Outcome', 'Message', 'Identity', 'Delay', 'Headlines Securities CIK',\n",
       "       'Headlines Securities CUSIP', 'Headlines Securities Symbol',\n",
       "       'Headlines Securities ISIN', 'Headlines Securities Valoren',\n",
       "       'Headlines Securities Name', 'Headlines Securities Market',\n",
       "       'Headlines Securities MarketIdentificationCode',\n",
       "       'Headlines Securities MostLiquidExchange',\n",
       "       'Headlines Securities CategoryOrIndustry', 'Headlines Title',\n",
       "       'Headlines Date', 'Headlines Time', 'Headlines UTCOffset',\n",
       "       'Headlines Source', 'Headlines Url', 'Headlines Images',\n",
       "       'Headlines Tags TagType', 'Headlines Tags TagValues',\n",
       "       'Headlines PaywallType', 'Headlines Summary'],\n",
       "      dtype='object')"
      ]
     },
     "execution_count": 345,
     "metadata": {},
     "output_type": "execute_result"
    }
   ],
   "source": [
    "m1.columns"
   ]
  },
  {
   "cell_type": "code",
   "execution_count": 346,
   "metadata": {},
   "outputs": [],
   "source": [
    "m1.rename(columns={'Headlines Securities CIK':'Security CIK','Headlines Securities CUSIP':'Security CUSIP', 'Headlines Securities Symbol':'Security Symbol','Headlines Securities ISIN':'Security ISIN','Headlines Securities Valoren':'Security Valoren','Headlines Securities Name':'Security Name','Headlines Securities Market':'Security Market','Headlines Securities MarketIdentificationCode':'Security MarketIdentificationCode','Headlines Securities MostLiquidExchange':'Security MostLiquidExchange','Headlines Securities CategoryOrIndustry':'Security CategoryOrIndustry'},inplace=True)"
   ]
  },
  {
   "cell_type": "code",
   "execution_count": 347,
   "metadata": {},
   "outputs": [
    {
     "data": {
      "text/plain": [
       "Index(['Outcome', 'Message', 'Identity', 'Delay', 'Headlines Securities CIK',\n",
       "       'Headlines Securities CUSIP', 'Headlines Securities Symbol',\n",
       "       'Headlines Securities ISIN', 'Headlines Securities Valoren',\n",
       "       'Headlines Securities Name', 'Headlines Securities Market',\n",
       "       'Headlines Securities MarketIdentificationCode',\n",
       "       'Headlines Securities MostLiquidExchange',\n",
       "       'Headlines Securities CategoryOrIndustry', 'Headlines Title',\n",
       "       'Headlines Date', 'Headlines Time', 'Headlines UTCOffset',\n",
       "       'Headlines Source', 'Headlines Url', 'Headlines Images',\n",
       "       'Headlines Tags TagType', 'Headlines Tags TagValues',\n",
       "       'Headlines PaywallType', 'Headlines Summary'],\n",
       "      dtype='object')"
      ]
     },
     "execution_count": 347,
     "metadata": {},
     "output_type": "execute_result"
    }
   ],
   "source": [
    "m2.columns"
   ]
  },
  {
   "cell_type": "code",
   "execution_count": 348,
   "metadata": {},
   "outputs": [],
   "source": [
    "m2.rename(columns={'Headlines Securities CIK':'Security CIK','Headlines Securities CUSIP':'Security CUSIP', 'Headlines Securities Symbol':'Security Symbol','Headlines Securities ISIN':'Security ISIN','Headlines Securities Valoren':'Security Valoren','Headlines Securities Name':'Security Name','Headlines Securities Market':'Security Market','Headlines Securities MarketIdentificationCode':'Security MarketIdentificationCode','Headlines Securities MostLiquidExchange':'Security MostLiquidExchange','Headlines Securities CategoryOrIndustry':'Security CategoryOrIndustry'},inplace=True)"
   ]
  },
  {
   "cell_type": "code",
   "execution_count": 349,
   "metadata": {},
   "outputs": [
    {
     "data": {
      "text/plain": [
       "Index(['Outcome', 'Message', 'Identity', 'Delay', 'Security CIK',\n",
       "       'Security CUSIP', 'Security Symbol', 'Security ISIN',\n",
       "       'Security Valoren', 'Security Name', 'Security Market',\n",
       "       'Security MarketIdentificationCode', 'Security MostLiquidExchange',\n",
       "       'Security CategoryOrIndustry', 'Headlines Title', 'Headlines Date',\n",
       "       'Headlines Time', 'Headlines UTCOffset', 'Headlines Source',\n",
       "       'Headlines Url', 'Headlines Images', 'Headlines Tags TagType',\n",
       "       'Headlines Tags TagValues', 'Headlines PaywallType',\n",
       "       'Headlines Summary'],\n",
       "      dtype='object')"
      ]
     },
     "execution_count": 349,
     "metadata": {},
     "output_type": "execute_result"
    }
   ],
   "source": [
    "s1.columns"
   ]
  },
  {
   "cell_type": "code",
   "execution_count": 391,
   "metadata": {},
   "outputs": [],
   "source": [
    "data=pd.concat([hist,m1,m2,s1,s2,s3,s4,s5])"
   ]
  },
  {
   "cell_type": "code",
   "execution_count": 392,
   "metadata": {},
   "outputs": [
    {
     "data": {
      "text/html": [
       "<div>\n",
       "<style scoped>\n",
       "    .dataframe tbody tr th:only-of-type {\n",
       "        vertical-align: middle;\n",
       "    }\n",
       "\n",
       "    .dataframe tbody tr th {\n",
       "        vertical-align: top;\n",
       "    }\n",
       "\n",
       "    .dataframe thead th {\n",
       "        text-align: right;\n",
       "    }\n",
       "</style>\n",
       "<table border=\"1\" class=\"dataframe\">\n",
       "  <thead>\n",
       "    <tr style=\"text-align: right;\">\n",
       "      <th></th>\n",
       "      <th>Outcome</th>\n",
       "      <th>Message</th>\n",
       "      <th>Identity</th>\n",
       "      <th>Delay</th>\n",
       "      <th>Security CIK</th>\n",
       "      <th>Security CUSIP</th>\n",
       "      <th>Security Symbol</th>\n",
       "      <th>Security ISIN</th>\n",
       "      <th>Security Valoren</th>\n",
       "      <th>Security Name</th>\n",
       "      <th>...</th>\n",
       "      <th>Headlines Date</th>\n",
       "      <th>Headlines Time</th>\n",
       "      <th>Headlines UTCOffset</th>\n",
       "      <th>Headlines Source</th>\n",
       "      <th>Headlines Url</th>\n",
       "      <th>Headlines Images</th>\n",
       "      <th>Headlines Tags TagType</th>\n",
       "      <th>Headlines Tags TagValues</th>\n",
       "      <th>Headlines PaywallType</th>\n",
       "      <th>Headlines Summary</th>\n",
       "    </tr>\n",
       "  </thead>\n",
       "  <tbody>\n",
       "    <tr>\n",
       "      <th>0</th>\n",
       "      <td>Success</td>\n",
       "      <td>NaN</td>\n",
       "      <td>Request</td>\n",
       "      <td>0.482025</td>\n",
       "      <td>NaN</td>\n",
       "      <td>NaN</td>\n",
       "      <td>NaN</td>\n",
       "      <td>NaN</td>\n",
       "      <td>NaN</td>\n",
       "      <td>NaN</td>\n",
       "      <td>...</td>\n",
       "      <td>6/9/2021</td>\n",
       "      <td>11:56 PM</td>\n",
       "      <td>0</td>\n",
       "      <td>Globe Newswire</td>\n",
       "      <td>https://www.globenewswire.com/news-release/202...</td>\n",
       "      <td>NaN</td>\n",
       "      <td>Symbols</td>\n",
       "      <td>NaN</td>\n",
       "      <td>None</td>\n",
       "      <td>Sahara Rose\\r\\n\\r\\n The Dharma Coaching Instit...</td>\n",
       "    </tr>\n",
       "    <tr>\n",
       "      <th>1</th>\n",
       "      <td>Success</td>\n",
       "      <td>NaN</td>\n",
       "      <td>Request</td>\n",
       "      <td>0.482025</td>\n",
       "      <td>NaN</td>\n",
       "      <td>NaN</td>\n",
       "      <td>NaN</td>\n",
       "      <td>NaN</td>\n",
       "      <td>NaN</td>\n",
       "      <td>NaN</td>\n",
       "      <td>...</td>\n",
       "      <td>6/9/2021</td>\n",
       "      <td>11:56 PM</td>\n",
       "      <td>0</td>\n",
       "      <td>Globe Newswire</td>\n",
       "      <td>https://www.globenewswire.com/news-release/202...</td>\n",
       "      <td>NaN</td>\n",
       "      <td>Companies</td>\n",
       "      <td>NaN</td>\n",
       "      <td>None</td>\n",
       "      <td>Sahara Rose\\r\\n\\r\\n The Dharma Coaching Instit...</td>\n",
       "    </tr>\n",
       "    <tr>\n",
       "      <th>2</th>\n",
       "      <td>Success</td>\n",
       "      <td>NaN</td>\n",
       "      <td>Request</td>\n",
       "      <td>0.482025</td>\n",
       "      <td>NaN</td>\n",
       "      <td>NaN</td>\n",
       "      <td>NaN</td>\n",
       "      <td>NaN</td>\n",
       "      <td>NaN</td>\n",
       "      <td>NaN</td>\n",
       "      <td>...</td>\n",
       "      <td>6/9/2021</td>\n",
       "      <td>11:56 PM</td>\n",
       "      <td>0</td>\n",
       "      <td>Globe Newswire</td>\n",
       "      <td>https://www.globenewswire.com/news-release/202...</td>\n",
       "      <td>NaN</td>\n",
       "      <td>Sectors</td>\n",
       "      <td>NaN</td>\n",
       "      <td>None</td>\n",
       "      <td>Sahara Rose\\r\\n\\r\\n The Dharma Coaching Instit...</td>\n",
       "    </tr>\n",
       "    <tr>\n",
       "      <th>3</th>\n",
       "      <td>Success</td>\n",
       "      <td>NaN</td>\n",
       "      <td>Request</td>\n",
       "      <td>0.482025</td>\n",
       "      <td>NaN</td>\n",
       "      <td>NaN</td>\n",
       "      <td>NaN</td>\n",
       "      <td>NaN</td>\n",
       "      <td>NaN</td>\n",
       "      <td>NaN</td>\n",
       "      <td>...</td>\n",
       "      <td>6/9/2021</td>\n",
       "      <td>11:56 PM</td>\n",
       "      <td>0</td>\n",
       "      <td>Globe Newswire</td>\n",
       "      <td>https://www.globenewswire.com/news-release/202...</td>\n",
       "      <td>NaN</td>\n",
       "      <td>Topics</td>\n",
       "      <td>NaN</td>\n",
       "      <td>None</td>\n",
       "      <td>Sahara Rose\\r\\n\\r\\n The Dharma Coaching Instit...</td>\n",
       "    </tr>\n",
       "    <tr>\n",
       "      <th>4</th>\n",
       "      <td>Success</td>\n",
       "      <td>NaN</td>\n",
       "      <td>Request</td>\n",
       "      <td>0.482025</td>\n",
       "      <td>1557746.0</td>\n",
       "      <td>NaN</td>\n",
       "      <td>ACRS</td>\n",
       "      <td>NaN</td>\n",
       "      <td>29306378.0</td>\n",
       "      <td>Aclaris Therapeutics Inc</td>\n",
       "      <td>...</td>\n",
       "      <td>6/9/2021</td>\n",
       "      <td>11:55 PM</td>\n",
       "      <td>0</td>\n",
       "      <td>Globe Newswire</td>\n",
       "      <td>https://www.globenewswire.com/news-release/202...</td>\n",
       "      <td>NaN</td>\n",
       "      <td>Topics</td>\n",
       "      <td>NaN</td>\n",
       "      <td>None</td>\n",
       "      <td>WAYNE, Pa., June 09, 2021 (GLOBE NEWSWIRE) -- ...</td>\n",
       "    </tr>\n",
       "    <tr>\n",
       "      <th>...</th>\n",
       "      <td>...</td>\n",
       "      <td>...</td>\n",
       "      <td>...</td>\n",
       "      <td>...</td>\n",
       "      <td>...</td>\n",
       "      <td>...</td>\n",
       "      <td>...</td>\n",
       "      <td>...</td>\n",
       "      <td>...</td>\n",
       "      <td>...</td>\n",
       "      <td>...</td>\n",
       "      <td>...</td>\n",
       "      <td>...</td>\n",
       "      <td>...</td>\n",
       "      <td>...</td>\n",
       "      <td>...</td>\n",
       "      <td>...</td>\n",
       "      <td>...</td>\n",
       "      <td>...</td>\n",
       "      <td>...</td>\n",
       "      <td>...</td>\n",
       "    </tr>\n",
       "    <tr>\n",
       "      <th>12672</th>\n",
       "      <td>Success</td>\n",
       "      <td>Results are limited to 1000 items, so your res...</td>\n",
       "      <td>Request</td>\n",
       "      <td>0.558012</td>\n",
       "      <td>320193.0</td>\n",
       "      <td>NaN</td>\n",
       "      <td>AAPL</td>\n",
       "      <td>NaN</td>\n",
       "      <td>908440.0</td>\n",
       "      <td>Apple Inc</td>\n",
       "      <td>...</td>\n",
       "      <td>5/28/2021</td>\n",
       "      <td>8:35 PM</td>\n",
       "      <td>0</td>\n",
       "      <td>SeekingAlpha.com: All News</td>\n",
       "      <td>https://seekingalpha.com/news/3701385-apple-re...</td>\n",
       "      <td>https://i.insider.com/60ae8e11bee0fc0019d59b5f...</td>\n",
       "      <td>Symbols</td>\n",
       "      <td>AAPL</td>\n",
       "      <td>Soft</td>\n",
       "      <td>NaN</td>\n",
       "    </tr>\n",
       "    <tr>\n",
       "      <th>12673</th>\n",
       "      <td>Success</td>\n",
       "      <td>Results are limited to 1000 items, so your res...</td>\n",
       "      <td>Request</td>\n",
       "      <td>0.558012</td>\n",
       "      <td>320193.0</td>\n",
       "      <td>NaN</td>\n",
       "      <td>AAPL</td>\n",
       "      <td>NaN</td>\n",
       "      <td>908440.0</td>\n",
       "      <td>Apple Inc</td>\n",
       "      <td>...</td>\n",
       "      <td>5/28/2021</td>\n",
       "      <td>8:35 PM</td>\n",
       "      <td>0</td>\n",
       "      <td>SeekingAlpha.com: All News</td>\n",
       "      <td>https://seekingalpha.com/news/3701385-apple-re...</td>\n",
       "      <td>https://i.insider.com/60ae8e11bee0fc0019d59b5f...</td>\n",
       "      <td>Companies</td>\n",
       "      <td>Apple Inc.</td>\n",
       "      <td>Soft</td>\n",
       "      <td>NaN</td>\n",
       "    </tr>\n",
       "    <tr>\n",
       "      <th>12674</th>\n",
       "      <td>Success</td>\n",
       "      <td>Results are limited to 1000 items, so your res...</td>\n",
       "      <td>Request</td>\n",
       "      <td>0.558012</td>\n",
       "      <td>320193.0</td>\n",
       "      <td>NaN</td>\n",
       "      <td>AAPL</td>\n",
       "      <td>NaN</td>\n",
       "      <td>908440.0</td>\n",
       "      <td>Apple Inc</td>\n",
       "      <td>...</td>\n",
       "      <td>5/28/2021</td>\n",
       "      <td>8:35 PM</td>\n",
       "      <td>0</td>\n",
       "      <td>SeekingAlpha.com: All News</td>\n",
       "      <td>https://seekingalpha.com/news/3701385-apple-re...</td>\n",
       "      <td>https://i.insider.com/60ae8e11bee0fc0019d59b5f...</td>\n",
       "      <td>Sectors</td>\n",
       "      <td>Technology</td>\n",
       "      <td>Soft</td>\n",
       "      <td>NaN</td>\n",
       "    </tr>\n",
       "    <tr>\n",
       "      <th>12675</th>\n",
       "      <td>Success</td>\n",
       "      <td>Results are limited to 1000 items, so your res...</td>\n",
       "      <td>Request</td>\n",
       "      <td>0.558012</td>\n",
       "      <td>320193.0</td>\n",
       "      <td>NaN</td>\n",
       "      <td>AAPL</td>\n",
       "      <td>NaN</td>\n",
       "      <td>908440.0</td>\n",
       "      <td>Apple Inc</td>\n",
       "      <td>...</td>\n",
       "      <td>5/28/2021</td>\n",
       "      <td>8:35 PM</td>\n",
       "      <td>0</td>\n",
       "      <td>SeekingAlpha.com: All News</td>\n",
       "      <td>https://seekingalpha.com/news/3701385-apple-re...</td>\n",
       "      <td>https://i.insider.com/60ae8e11bee0fc0019d59b5f...</td>\n",
       "      <td>Topics</td>\n",
       "      <td>Business_Finance</td>\n",
       "      <td>Soft</td>\n",
       "      <td>NaN</td>\n",
       "    </tr>\n",
       "    <tr>\n",
       "      <th>12676</th>\n",
       "      <td>Success</td>\n",
       "      <td>Results are limited to 1000 items, so your res...</td>\n",
       "      <td>Request</td>\n",
       "      <td>0.558012</td>\n",
       "      <td>320193.0</td>\n",
       "      <td>NaN</td>\n",
       "      <td>AAPL</td>\n",
       "      <td>NaN</td>\n",
       "      <td>908440.0</td>\n",
       "      <td>Apple Inc</td>\n",
       "      <td>...</td>\n",
       "      <td>5/28/2021</td>\n",
       "      <td>8:35 PM</td>\n",
       "      <td>0</td>\n",
       "      <td>SeekingAlpha.com: All News</td>\n",
       "      <td>https://seekingalpha.com/news/3701385-apple-re...</td>\n",
       "      <td>https://i.insider.com/60ae8e11bee0fc0019d59b5f...</td>\n",
       "      <td>Topics</td>\n",
       "      <td>Technology_Internet</td>\n",
       "      <td>Soft</td>\n",
       "      <td>NaN</td>\n",
       "    </tr>\n",
       "  </tbody>\n",
       "</table>\n",
       "<p>59907 rows × 25 columns</p>\n",
       "</div>"
      ],
      "text/plain": [
       "       Outcome                                            Message Identity  \\\n",
       "0      Success                                                NaN  Request   \n",
       "1      Success                                                NaN  Request   \n",
       "2      Success                                                NaN  Request   \n",
       "3      Success                                                NaN  Request   \n",
       "4      Success                                                NaN  Request   \n",
       "...        ...                                                ...      ...   \n",
       "12672  Success  Results are limited to 1000 items, so your res...  Request   \n",
       "12673  Success  Results are limited to 1000 items, so your res...  Request   \n",
       "12674  Success  Results are limited to 1000 items, so your res...  Request   \n",
       "12675  Success  Results are limited to 1000 items, so your res...  Request   \n",
       "12676  Success  Results are limited to 1000 items, so your res...  Request   \n",
       "\n",
       "          Delay  Security CIK  Security CUSIP Security Symbol  Security ISIN  \\\n",
       "0      0.482025           NaN             NaN             NaN            NaN   \n",
       "1      0.482025           NaN             NaN             NaN            NaN   \n",
       "2      0.482025           NaN             NaN             NaN            NaN   \n",
       "3      0.482025           NaN             NaN             NaN            NaN   \n",
       "4      0.482025     1557746.0             NaN            ACRS            NaN   \n",
       "...         ...           ...             ...             ...            ...   \n",
       "12672  0.558012      320193.0             NaN            AAPL            NaN   \n",
       "12673  0.558012      320193.0             NaN            AAPL            NaN   \n",
       "12674  0.558012      320193.0             NaN            AAPL            NaN   \n",
       "12675  0.558012      320193.0             NaN            AAPL            NaN   \n",
       "12676  0.558012      320193.0             NaN            AAPL            NaN   \n",
       "\n",
       "       Security Valoren             Security Name  ... Headlines Date  \\\n",
       "0                   NaN                       NaN  ...       6/9/2021   \n",
       "1                   NaN                       NaN  ...       6/9/2021   \n",
       "2                   NaN                       NaN  ...       6/9/2021   \n",
       "3                   NaN                       NaN  ...       6/9/2021   \n",
       "4            29306378.0  Aclaris Therapeutics Inc  ...       6/9/2021   \n",
       "...                 ...                       ...  ...            ...   \n",
       "12672          908440.0                 Apple Inc  ...      5/28/2021   \n",
       "12673          908440.0                 Apple Inc  ...      5/28/2021   \n",
       "12674          908440.0                 Apple Inc  ...      5/28/2021   \n",
       "12675          908440.0                 Apple Inc  ...      5/28/2021   \n",
       "12676          908440.0                 Apple Inc  ...      5/28/2021   \n",
       "\n",
       "      Headlines Time Headlines UTCOffset            Headlines Source  \\\n",
       "0           11:56 PM                   0              Globe Newswire   \n",
       "1           11:56 PM                   0              Globe Newswire   \n",
       "2           11:56 PM                   0              Globe Newswire   \n",
       "3           11:56 PM                   0              Globe Newswire   \n",
       "4           11:55 PM                   0              Globe Newswire   \n",
       "...              ...                 ...                         ...   \n",
       "12672        8:35 PM                   0  SeekingAlpha.com: All News   \n",
       "12673        8:35 PM                   0  SeekingAlpha.com: All News   \n",
       "12674        8:35 PM                   0  SeekingAlpha.com: All News   \n",
       "12675        8:35 PM                   0  SeekingAlpha.com: All News   \n",
       "12676        8:35 PM                   0  SeekingAlpha.com: All News   \n",
       "\n",
       "                                           Headlines Url  \\\n",
       "0      https://www.globenewswire.com/news-release/202...   \n",
       "1      https://www.globenewswire.com/news-release/202...   \n",
       "2      https://www.globenewswire.com/news-release/202...   \n",
       "3      https://www.globenewswire.com/news-release/202...   \n",
       "4      https://www.globenewswire.com/news-release/202...   \n",
       "...                                                  ...   \n",
       "12672  https://seekingalpha.com/news/3701385-apple-re...   \n",
       "12673  https://seekingalpha.com/news/3701385-apple-re...   \n",
       "12674  https://seekingalpha.com/news/3701385-apple-re...   \n",
       "12675  https://seekingalpha.com/news/3701385-apple-re...   \n",
       "12676  https://seekingalpha.com/news/3701385-apple-re...   \n",
       "\n",
       "                                        Headlines Images  \\\n",
       "0                                                    NaN   \n",
       "1                                                    NaN   \n",
       "2                                                    NaN   \n",
       "3                                                    NaN   \n",
       "4                                                    NaN   \n",
       "...                                                  ...   \n",
       "12672  https://i.insider.com/60ae8e11bee0fc0019d59b5f...   \n",
       "12673  https://i.insider.com/60ae8e11bee0fc0019d59b5f...   \n",
       "12674  https://i.insider.com/60ae8e11bee0fc0019d59b5f...   \n",
       "12675  https://i.insider.com/60ae8e11bee0fc0019d59b5f...   \n",
       "12676  https://i.insider.com/60ae8e11bee0fc0019d59b5f...   \n",
       "\n",
       "      Headlines Tags TagType  Headlines Tags TagValues Headlines PaywallType  \\\n",
       "0                    Symbols                       NaN                  None   \n",
       "1                  Companies                       NaN                  None   \n",
       "2                    Sectors                       NaN                  None   \n",
       "3                     Topics                       NaN                  None   \n",
       "4                     Topics                       NaN                  None   \n",
       "...                      ...                       ...                   ...   \n",
       "12672                Symbols                      AAPL                  Soft   \n",
       "12673              Companies                Apple Inc.                  Soft   \n",
       "12674                Sectors                Technology                  Soft   \n",
       "12675                 Topics          Business_Finance                  Soft   \n",
       "12676                 Topics       Technology_Internet                  Soft   \n",
       "\n",
       "                                       Headlines Summary  \n",
       "0      Sahara Rose\\r\\n\\r\\n The Dharma Coaching Instit...  \n",
       "1      Sahara Rose\\r\\n\\r\\n The Dharma Coaching Instit...  \n",
       "2      Sahara Rose\\r\\n\\r\\n The Dharma Coaching Instit...  \n",
       "3      Sahara Rose\\r\\n\\r\\n The Dharma Coaching Instit...  \n",
       "4      WAYNE, Pa., June 09, 2021 (GLOBE NEWSWIRE) -- ...  \n",
       "...                                                  ...  \n",
       "12672                                                NaN  \n",
       "12673                                                NaN  \n",
       "12674                                                NaN  \n",
       "12675                                                NaN  \n",
       "12676                                                NaN  \n",
       "\n",
       "[59907 rows x 25 columns]"
      ]
     },
     "execution_count": 392,
     "metadata": {},
     "output_type": "execute_result"
    }
   ],
   "source": [
    "data"
   ]
  },
  {
   "cell_type": "code",
   "execution_count": 393,
   "metadata": {},
   "outputs": [],
   "source": [
    "cols=['Outcome','Identity','Delay','Security CIK','Security Valoren','Headlines UTCOffset','Headlines Url','Headlines Images','Headlines PaywallType','Headlines Source','Security MostLiquidExchange','Message','Security CUSIP','Security ISIN','Headlines Time','Security MarketIdentificationCode','Headlines Tags TagType']"
   ]
  },
  {
   "cell_type": "code",
   "execution_count": 394,
   "metadata": {},
   "outputs": [],
   "source": [
    "data=data.drop(cols,axis=1)"
   ]
  },
  {
   "cell_type": "code",
   "execution_count": 395,
   "metadata": {},
   "outputs": [
    {
     "data": {
      "text/html": [
       "<div>\n",
       "<style scoped>\n",
       "    .dataframe tbody tr th:only-of-type {\n",
       "        vertical-align: middle;\n",
       "    }\n",
       "\n",
       "    .dataframe tbody tr th {\n",
       "        vertical-align: top;\n",
       "    }\n",
       "\n",
       "    .dataframe thead th {\n",
       "        text-align: right;\n",
       "    }\n",
       "</style>\n",
       "<table border=\"1\" class=\"dataframe\">\n",
       "  <thead>\n",
       "    <tr style=\"text-align: right;\">\n",
       "      <th></th>\n",
       "      <th>Security Symbol</th>\n",
       "      <th>Security Name</th>\n",
       "      <th>Security Market</th>\n",
       "      <th>Security CategoryOrIndustry</th>\n",
       "      <th>Headlines Title</th>\n",
       "      <th>Headlines Date</th>\n",
       "      <th>Headlines Tags TagValues</th>\n",
       "      <th>Headlines Summary</th>\n",
       "    </tr>\n",
       "  </thead>\n",
       "  <tbody>\n",
       "    <tr>\n",
       "      <th>0</th>\n",
       "      <td>NaN</td>\n",
       "      <td>NaN</td>\n",
       "      <td>NaN</td>\n",
       "      <td>NaN</td>\n",
       "      <td>Introducing The Dharma Coaching Institute - Th...</td>\n",
       "      <td>6/9/2021</td>\n",
       "      <td>NaN</td>\n",
       "      <td>Sahara Rose\\r\\n\\r\\n The Dharma Coaching Instit...</td>\n",
       "    </tr>\n",
       "    <tr>\n",
       "      <th>1</th>\n",
       "      <td>NaN</td>\n",
       "      <td>NaN</td>\n",
       "      <td>NaN</td>\n",
       "      <td>NaN</td>\n",
       "      <td>Introducing The Dharma Coaching Institute - Th...</td>\n",
       "      <td>6/9/2021</td>\n",
       "      <td>NaN</td>\n",
       "      <td>Sahara Rose\\r\\n\\r\\n The Dharma Coaching Instit...</td>\n",
       "    </tr>\n",
       "    <tr>\n",
       "      <th>2</th>\n",
       "      <td>NaN</td>\n",
       "      <td>NaN</td>\n",
       "      <td>NaN</td>\n",
       "      <td>NaN</td>\n",
       "      <td>Introducing The Dharma Coaching Institute - Th...</td>\n",
       "      <td>6/9/2021</td>\n",
       "      <td>NaN</td>\n",
       "      <td>Sahara Rose\\r\\n\\r\\n The Dharma Coaching Instit...</td>\n",
       "    </tr>\n",
       "    <tr>\n",
       "      <th>3</th>\n",
       "      <td>NaN</td>\n",
       "      <td>NaN</td>\n",
       "      <td>NaN</td>\n",
       "      <td>NaN</td>\n",
       "      <td>Introducing The Dharma Coaching Institute - Th...</td>\n",
       "      <td>6/9/2021</td>\n",
       "      <td>NaN</td>\n",
       "      <td>Sahara Rose\\r\\n\\r\\n The Dharma Coaching Instit...</td>\n",
       "    </tr>\n",
       "    <tr>\n",
       "      <th>4</th>\n",
       "      <td>ACRS</td>\n",
       "      <td>Aclaris Therapeutics Inc</td>\n",
       "      <td>NASDAQ</td>\n",
       "      <td>PharmaceuticalsOther</td>\n",
       "      <td>Aclaris Announces Pricing of Public Offering o...</td>\n",
       "      <td>6/9/2021</td>\n",
       "      <td>NaN</td>\n",
       "      <td>WAYNE, Pa., June 09, 2021 (GLOBE NEWSWIRE) -- ...</td>\n",
       "    </tr>\n",
       "    <tr>\n",
       "      <th>...</th>\n",
       "      <td>...</td>\n",
       "      <td>...</td>\n",
       "      <td>...</td>\n",
       "      <td>...</td>\n",
       "      <td>...</td>\n",
       "      <td>...</td>\n",
       "      <td>...</td>\n",
       "      <td>...</td>\n",
       "    </tr>\n",
       "    <tr>\n",
       "      <th>12672</th>\n",
       "      <td>AAPL</td>\n",
       "      <td>Apple Inc</td>\n",
       "      <td>NASDAQ</td>\n",
       "      <td>TelecommunicationsEquipment</td>\n",
       "      <td>Apple reportedly made bid for rap-battle platf...</td>\n",
       "      <td>5/28/2021</td>\n",
       "      <td>AAPL</td>\n",
       "      <td>NaN</td>\n",
       "    </tr>\n",
       "    <tr>\n",
       "      <th>12673</th>\n",
       "      <td>AAPL</td>\n",
       "      <td>Apple Inc</td>\n",
       "      <td>NASDAQ</td>\n",
       "      <td>TelecommunicationsEquipment</td>\n",
       "      <td>Apple reportedly made bid for rap-battle platf...</td>\n",
       "      <td>5/28/2021</td>\n",
       "      <td>Apple Inc.</td>\n",
       "      <td>NaN</td>\n",
       "    </tr>\n",
       "    <tr>\n",
       "      <th>12674</th>\n",
       "      <td>AAPL</td>\n",
       "      <td>Apple Inc</td>\n",
       "      <td>NASDAQ</td>\n",
       "      <td>TelecommunicationsEquipment</td>\n",
       "      <td>Apple reportedly made bid for rap-battle platf...</td>\n",
       "      <td>5/28/2021</td>\n",
       "      <td>Technology</td>\n",
       "      <td>NaN</td>\n",
       "    </tr>\n",
       "    <tr>\n",
       "      <th>12675</th>\n",
       "      <td>AAPL</td>\n",
       "      <td>Apple Inc</td>\n",
       "      <td>NASDAQ</td>\n",
       "      <td>TelecommunicationsEquipment</td>\n",
       "      <td>Apple reportedly made bid for rap-battle platf...</td>\n",
       "      <td>5/28/2021</td>\n",
       "      <td>Business_Finance</td>\n",
       "      <td>NaN</td>\n",
       "    </tr>\n",
       "    <tr>\n",
       "      <th>12676</th>\n",
       "      <td>AAPL</td>\n",
       "      <td>Apple Inc</td>\n",
       "      <td>NASDAQ</td>\n",
       "      <td>TelecommunicationsEquipment</td>\n",
       "      <td>Apple reportedly made bid for rap-battle platf...</td>\n",
       "      <td>5/28/2021</td>\n",
       "      <td>Technology_Internet</td>\n",
       "      <td>NaN</td>\n",
       "    </tr>\n",
       "  </tbody>\n",
       "</table>\n",
       "<p>59907 rows × 8 columns</p>\n",
       "</div>"
      ],
      "text/plain": [
       "      Security Symbol             Security Name Security Market  \\\n",
       "0                 NaN                       NaN             NaN   \n",
       "1                 NaN                       NaN             NaN   \n",
       "2                 NaN                       NaN             NaN   \n",
       "3                 NaN                       NaN             NaN   \n",
       "4                ACRS  Aclaris Therapeutics Inc          NASDAQ   \n",
       "...               ...                       ...             ...   \n",
       "12672            AAPL                 Apple Inc          NASDAQ   \n",
       "12673            AAPL                 Apple Inc          NASDAQ   \n",
       "12674            AAPL                 Apple Inc          NASDAQ   \n",
       "12675            AAPL                 Apple Inc          NASDAQ   \n",
       "12676            AAPL                 Apple Inc          NASDAQ   \n",
       "\n",
       "       Security CategoryOrIndustry  \\\n",
       "0                              NaN   \n",
       "1                              NaN   \n",
       "2                              NaN   \n",
       "3                              NaN   \n",
       "4             PharmaceuticalsOther   \n",
       "...                            ...   \n",
       "12672  TelecommunicationsEquipment   \n",
       "12673  TelecommunicationsEquipment   \n",
       "12674  TelecommunicationsEquipment   \n",
       "12675  TelecommunicationsEquipment   \n",
       "12676  TelecommunicationsEquipment   \n",
       "\n",
       "                                         Headlines Title Headlines Date  \\\n",
       "0      Introducing The Dharma Coaching Institute - Th...       6/9/2021   \n",
       "1      Introducing The Dharma Coaching Institute - Th...       6/9/2021   \n",
       "2      Introducing The Dharma Coaching Institute - Th...       6/9/2021   \n",
       "3      Introducing The Dharma Coaching Institute - Th...       6/9/2021   \n",
       "4      Aclaris Announces Pricing of Public Offering o...       6/9/2021   \n",
       "...                                                  ...            ...   \n",
       "12672  Apple reportedly made bid for rap-battle platf...      5/28/2021   \n",
       "12673  Apple reportedly made bid for rap-battle platf...      5/28/2021   \n",
       "12674  Apple reportedly made bid for rap-battle platf...      5/28/2021   \n",
       "12675  Apple reportedly made bid for rap-battle platf...      5/28/2021   \n",
       "12676  Apple reportedly made bid for rap-battle platf...      5/28/2021   \n",
       "\n",
       "      Headlines Tags TagValues  \\\n",
       "0                          NaN   \n",
       "1                          NaN   \n",
       "2                          NaN   \n",
       "3                          NaN   \n",
       "4                          NaN   \n",
       "...                        ...   \n",
       "12672                     AAPL   \n",
       "12673               Apple Inc.   \n",
       "12674               Technology   \n",
       "12675         Business_Finance   \n",
       "12676      Technology_Internet   \n",
       "\n",
       "                                       Headlines Summary  \n",
       "0      Sahara Rose\\r\\n\\r\\n The Dharma Coaching Instit...  \n",
       "1      Sahara Rose\\r\\n\\r\\n The Dharma Coaching Instit...  \n",
       "2      Sahara Rose\\r\\n\\r\\n The Dharma Coaching Instit...  \n",
       "3      Sahara Rose\\r\\n\\r\\n The Dharma Coaching Instit...  \n",
       "4      WAYNE, Pa., June 09, 2021 (GLOBE NEWSWIRE) -- ...  \n",
       "...                                                  ...  \n",
       "12672                                                NaN  \n",
       "12673                                                NaN  \n",
       "12674                                                NaN  \n",
       "12675                                                NaN  \n",
       "12676                                                NaN  \n",
       "\n",
       "[59907 rows x 8 columns]"
      ]
     },
     "execution_count": 395,
     "metadata": {},
     "output_type": "execute_result"
    }
   ],
   "source": [
    "data"
   ]
  },
  {
   "cell_type": "code",
   "execution_count": 396,
   "metadata": {},
   "outputs": [],
   "source": [
    "data.reset_index(drop=True,inplace=True)"
   ]
  },
  {
   "cell_type": "code",
   "execution_count": 397,
   "metadata": {},
   "outputs": [
    {
     "data": {
      "text/plain": [
       "12113"
      ]
     },
     "execution_count": 397,
     "metadata": {},
     "output_type": "execute_result"
    }
   ],
   "source": [
    "data.duplicated().sum()"
   ]
  },
  {
   "cell_type": "code",
   "execution_count": 398,
   "metadata": {},
   "outputs": [],
   "source": [
    "data.drop_duplicates(inplace=True,ignore_index=True)"
   ]
  },
  {
   "cell_type": "code",
   "execution_count": 399,
   "metadata": {},
   "outputs": [
    {
     "data": {
      "text/plain": [
       "(47794, 8)"
      ]
     },
     "execution_count": 399,
     "metadata": {},
     "output_type": "execute_result"
    }
   ],
   "source": [
    "data.shape"
   ]
  },
  {
   "cell_type": "code",
   "execution_count": 400,
   "metadata": {},
   "outputs": [
    {
     "data": {
      "text/plain": [
       "Security Symbol                object\n",
       "Security Name                  object\n",
       "Security Market                object\n",
       "Security CategoryOrIndustry    object\n",
       "Headlines Title                object\n",
       "Headlines Date                 object\n",
       "Headlines Tags TagValues       object\n",
       "Headlines Summary              object\n",
       "dtype: object"
      ]
     },
     "execution_count": 400,
     "metadata": {},
     "output_type": "execute_result"
    }
   ],
   "source": [
    "data.dtypes"
   ]
  },
  {
   "cell_type": "code",
   "execution_count": 401,
   "metadata": {},
   "outputs": [],
   "source": [
    "data['Headlines Date']=pd.to_datetime(data['Headlines Date'],format='%m/%d/%Y')"
   ]
  },
  {
   "cell_type": "code",
   "execution_count": 402,
   "metadata": {},
   "outputs": [
    {
     "name": "stderr",
     "output_type": "stream",
     "text": [
      "C:\\Users\\rmkis\\anaconda3\\lib\\site-packages\\seaborn\\distributions.py:2551: FutureWarning: `distplot` is a deprecated function and will be removed in a future version. Please adapt your code to use either `displot` (a figure-level function with similar flexibility) or `histplot` (an axes-level function for histograms).\n",
      "  warnings.warn(msg, FutureWarning)\n"
     ]
    },
    {
     "data": {
      "text/plain": [
       "<AxesSubplot:xlabel='Headlines Date', ylabel='Density'>"
      ]
     },
     "execution_count": 402,
     "metadata": {},
     "output_type": "execute_result"
    },
    {
     "data": {
      "image/png": "[encoded data removed]",
      "text/plain": [
       "<Figure size 432x288 with 1 Axes>"
      ]
     },
     "metadata": {
      "needs_background": "light"
     },
     "output_type": "display_data"
    }
   ],
   "source": [
    "day=data['Headlines Date'].dt.day\n",
    "sns.distplot(day,bins=31)"
   ]
  },
  {
   "cell_type": "code",
   "execution_count": 403,
   "metadata": {},
   "outputs": [
    {
     "name": "stderr",
     "output_type": "stream",
     "text": [
      "C:\\Users\\rmkis\\anaconda3\\lib\\site-packages\\seaborn\\distributions.py:2551: FutureWarning: `distplot` is a deprecated function and will be removed in a future version. Please adapt your code to use either `displot` (a figure-level function with similar flexibility) or `histplot` (an axes-level function for histograms).\n",
      "  warnings.warn(msg, FutureWarning)\n"
     ]
    },
    {
     "data": {
      "text/plain": [
       "<AxesSubplot:xlabel='Headlines Date'>"
      ]
     },
     "execution_count": 403,
     "metadata": {},
     "output_type": "execute_result"
    },
    {
     "data": {
      "image/png": "[encoded data removed]",
      "text/plain": [
       "<Figure size 432x288 with 1 Axes>"
      ]
     },
     "metadata": {
      "needs_background": "light"
     },
     "output_type": "display_data"
    }
   ],
   "source": [
    "month=data['Headlines Date'].dt.month\n",
    "sns.distplot(month,bins=12,kde=False)"
   ]
  },
  {
   "cell_type": "code",
   "execution_count": 404,
   "metadata": {},
   "outputs": [],
   "source": [
    "data=data[data['Security Symbol']=='AAPL']"
   ]
  },
  {
   "cell_type": "code",
   "execution_count": 405,
   "metadata": {},
   "outputs": [
    {
     "data": {
      "text/html": [
       "<div>\n",
       "<style scoped>\n",
       "    .dataframe tbody tr th:only-of-type {\n",
       "        vertical-align: middle;\n",
       "    }\n",
       "\n",
       "    .dataframe tbody tr th {\n",
       "        vertical-align: top;\n",
       "    }\n",
       "\n",
       "    .dataframe thead th {\n",
       "        text-align: right;\n",
       "    }\n",
       "</style>\n",
       "<table border=\"1\" class=\"dataframe\">\n",
       "  <thead>\n",
       "    <tr style=\"text-align: right;\">\n",
       "      <th></th>\n",
       "      <th>Security Symbol</th>\n",
       "      <th>Security Name</th>\n",
       "      <th>Security Market</th>\n",
       "      <th>Security CategoryOrIndustry</th>\n",
       "      <th>Headlines Title</th>\n",
       "      <th>Headlines Date</th>\n",
       "      <th>Headlines Tags TagValues</th>\n",
       "      <th>Headlines Summary</th>\n",
       "    </tr>\n",
       "  </thead>\n",
       "  <tbody>\n",
       "    <tr>\n",
       "      <th>1695</th>\n",
       "      <td>AAPL</td>\n",
       "      <td>Apple Inc</td>\n",
       "      <td>NASDAQ</td>\n",
       "      <td>TelecommunicationsEquipment</td>\n",
       "      <td>athenahealth is set to support the iOS 15 Feat...</td>\n",
       "      <td>2021-06-09</td>\n",
       "      <td>Consumer_Services</td>\n",
       "      <td>It's being announced this afternoon that athen...</td>\n",
       "    </tr>\n",
       "    <tr>\n",
       "      <th>1696</th>\n",
       "      <td>AAPL</td>\n",
       "      <td>Apple Inc</td>\n",
       "      <td>NASDAQ</td>\n",
       "      <td>TelecommunicationsEquipment</td>\n",
       "      <td>athenahealth is set to support the iOS 15 Feat...</td>\n",
       "      <td>2021-06-09</td>\n",
       "      <td>EVDY</td>\n",
       "      <td>It's being announced this afternoon that athen...</td>\n",
       "    </tr>\n",
       "    <tr>\n",
       "      <th>1697</th>\n",
       "      <td>AAPL</td>\n",
       "      <td>Apple Inc</td>\n",
       "      <td>NASDAQ</td>\n",
       "      <td>TelecommunicationsEquipment</td>\n",
       "      <td>athenahealth is set to support the iOS 15 Feat...</td>\n",
       "      <td>2021-06-09</td>\n",
       "      <td>AAPL</td>\n",
       "      <td>It's being announced this afternoon that athen...</td>\n",
       "    </tr>\n",
       "    <tr>\n",
       "      <th>1698</th>\n",
       "      <td>AAPL</td>\n",
       "      <td>Apple Inc</td>\n",
       "      <td>NASDAQ</td>\n",
       "      <td>TelecommunicationsEquipment</td>\n",
       "      <td>athenahealth is set to support the iOS 15 Feat...</td>\n",
       "      <td>2021-06-09</td>\n",
       "      <td>Everyday Health</td>\n",
       "      <td>It's being announced this afternoon that athen...</td>\n",
       "    </tr>\n",
       "    <tr>\n",
       "      <th>1699</th>\n",
       "      <td>AAPL</td>\n",
       "      <td>Apple Inc</td>\n",
       "      <td>NASDAQ</td>\n",
       "      <td>TelecommunicationsEquipment</td>\n",
       "      <td>athenahealth is set to support the iOS 15 Feat...</td>\n",
       "      <td>2021-06-09</td>\n",
       "      <td>Technology</td>\n",
       "      <td>It's being announced this afternoon that athen...</td>\n",
       "    </tr>\n",
       "    <tr>\n",
       "      <th>...</th>\n",
       "      <td>...</td>\n",
       "      <td>...</td>\n",
       "      <td>...</td>\n",
       "      <td>...</td>\n",
       "      <td>...</td>\n",
       "      <td>...</td>\n",
       "      <td>...</td>\n",
       "      <td>...</td>\n",
       "    </tr>\n",
       "    <tr>\n",
       "      <th>47789</th>\n",
       "      <td>AAPL</td>\n",
       "      <td>Apple Inc</td>\n",
       "      <td>NASDAQ</td>\n",
       "      <td>TelecommunicationsEquipment</td>\n",
       "      <td>Apple reportedly made bid for rap-battle platf...</td>\n",
       "      <td>2021-05-28</td>\n",
       "      <td>AAPL</td>\n",
       "      <td>NaN</td>\n",
       "    </tr>\n",
       "    <tr>\n",
       "      <th>47790</th>\n",
       "      <td>AAPL</td>\n",
       "      <td>Apple Inc</td>\n",
       "      <td>NASDAQ</td>\n",
       "      <td>TelecommunicationsEquipment</td>\n",
       "      <td>Apple reportedly made bid for rap-battle platf...</td>\n",
       "      <td>2021-05-28</td>\n",
       "      <td>Apple Inc.</td>\n",
       "      <td>NaN</td>\n",
       "    </tr>\n",
       "    <tr>\n",
       "      <th>47791</th>\n",
       "      <td>AAPL</td>\n",
       "      <td>Apple Inc</td>\n",
       "      <td>NASDAQ</td>\n",
       "      <td>TelecommunicationsEquipment</td>\n",
       "      <td>Apple reportedly made bid for rap-battle platf...</td>\n",
       "      <td>2021-05-28</td>\n",
       "      <td>Technology</td>\n",
       "      <td>NaN</td>\n",
       "    </tr>\n",
       "    <tr>\n",
       "      <th>47792</th>\n",
       "      <td>AAPL</td>\n",
       "      <td>Apple Inc</td>\n",
       "      <td>NASDAQ</td>\n",
       "      <td>TelecommunicationsEquipment</td>\n",
       "      <td>Apple reportedly made bid for rap-battle platf...</td>\n",
       "      <td>2021-05-28</td>\n",
       "      <td>Business_Finance</td>\n",
       "      <td>NaN</td>\n",
       "    </tr>\n",
       "    <tr>\n",
       "      <th>47793</th>\n",
       "      <td>AAPL</td>\n",
       "      <td>Apple Inc</td>\n",
       "      <td>NASDAQ</td>\n",
       "      <td>TelecommunicationsEquipment</td>\n",
       "      <td>Apple reportedly made bid for rap-battle platf...</td>\n",
       "      <td>2021-05-28</td>\n",
       "      <td>Technology_Internet</td>\n",
       "      <td>NaN</td>\n",
       "    </tr>\n",
       "  </tbody>\n",
       "</table>\n",
       "<p>11211 rows × 8 columns</p>\n",
       "</div>"
      ],
      "text/plain": [
       "      Security Symbol Security Name Security Market  \\\n",
       "1695             AAPL     Apple Inc          NASDAQ   \n",
       "1696             AAPL     Apple Inc          NASDAQ   \n",
       "1697             AAPL     Apple Inc          NASDAQ   \n",
       "1698             AAPL     Apple Inc          NASDAQ   \n",
       "1699             AAPL     Apple Inc          NASDAQ   \n",
       "...               ...           ...             ...   \n",
       "47789            AAPL     Apple Inc          NASDAQ   \n",
       "47790            AAPL     Apple Inc          NASDAQ   \n",
       "47791            AAPL     Apple Inc          NASDAQ   \n",
       "47792            AAPL     Apple Inc          NASDAQ   \n",
       "47793            AAPL     Apple Inc          NASDAQ   \n",
       "\n",
       "       Security CategoryOrIndustry  \\\n",
       "1695   TelecommunicationsEquipment   \n",
       "1696   TelecommunicationsEquipment   \n",
       "1697   TelecommunicationsEquipment   \n",
       "1698   TelecommunicationsEquipment   \n",
       "1699   TelecommunicationsEquipment   \n",
       "...                            ...   \n",
       "47789  TelecommunicationsEquipment   \n",
       "47790  TelecommunicationsEquipment   \n",
       "47791  TelecommunicationsEquipment   \n",
       "47792  TelecommunicationsEquipment   \n",
       "47793  TelecommunicationsEquipment   \n",
       "\n",
       "                                         Headlines Title Headlines Date  \\\n",
       "1695   athenahealth is set to support the iOS 15 Feat...     2021-06-09   \n",
       "1696   athenahealth is set to support the iOS 15 Feat...     2021-06-09   \n",
       "1697   athenahealth is set to support the iOS 15 Feat...     2021-06-09   \n",
       "1698   athenahealth is set to support the iOS 15 Feat...     2021-06-09   \n",
       "1699   athenahealth is set to support the iOS 15 Feat...     2021-06-09   \n",
       "...                                                  ...            ...   \n",
       "47789  Apple reportedly made bid for rap-battle platf...     2021-05-28   \n",
       "47790  Apple reportedly made bid for rap-battle platf...     2021-05-28   \n",
       "47791  Apple reportedly made bid for rap-battle platf...     2021-05-28   \n",
       "47792  Apple reportedly made bid for rap-battle platf...     2021-05-28   \n",
       "47793  Apple reportedly made bid for rap-battle platf...     2021-05-28   \n",
       "\n",
       "      Headlines Tags TagValues  \\\n",
       "1695         Consumer_Services   \n",
       "1696                      EVDY   \n",
       "1697                      AAPL   \n",
       "1698           Everyday Health   \n",
       "1699                Technology   \n",
       "...                        ...   \n",
       "47789                     AAPL   \n",
       "47790               Apple Inc.   \n",
       "47791               Technology   \n",
       "47792         Business_Finance   \n",
       "47793      Technology_Internet   \n",
       "\n",
       "                                       Headlines Summary  \n",
       "1695   It's being announced this afternoon that athen...  \n",
       "1696   It's being announced this afternoon that athen...  \n",
       "1697   It's being announced this afternoon that athen...  \n",
       "1698   It's being announced this afternoon that athen...  \n",
       "1699   It's being announced this afternoon that athen...  \n",
       "...                                                  ...  \n",
       "47789                                                NaN  \n",
       "47790                                                NaN  \n",
       "47791                                                NaN  \n",
       "47792                                                NaN  \n",
       "47793                                                NaN  \n",
       "\n",
       "[11211 rows x 8 columns]"
      ]
     },
     "execution_count": 405,
     "metadata": {},
     "output_type": "execute_result"
    }
   ],
   "source": [
    "data"
   ]
  },
  {
   "cell_type": "code",
   "execution_count": 406,
   "metadata": {},
   "outputs": [],
   "source": [
    "data.reset_index(inplace=True)"
   ]
  },
  {
   "cell_type": "code",
   "execution_count": 407,
   "metadata": {
    "scrolled": true
   },
   "outputs": [
    {
     "data": {
      "text/html": [
       "<div>\n",
       "<style scoped>\n",
       "    .dataframe tbody tr th:only-of-type {\n",
       "        vertical-align: middle;\n",
       "    }\n",
       "\n",
       "    .dataframe tbody tr th {\n",
       "        vertical-align: top;\n",
       "    }\n",
       "\n",
       "    .dataframe thead th {\n",
       "        text-align: right;\n",
       "    }\n",
       "</style>\n",
       "<table border=\"1\" class=\"dataframe\">\n",
       "  <thead>\n",
       "    <tr style=\"text-align: right;\">\n",
       "      <th></th>\n",
       "      <th>index</th>\n",
       "      <th>Security Symbol</th>\n",
       "      <th>Security Name</th>\n",
       "      <th>Security Market</th>\n",
       "      <th>Security CategoryOrIndustry</th>\n",
       "      <th>Headlines Title</th>\n",
       "      <th>Headlines Date</th>\n",
       "      <th>Headlines Tags TagValues</th>\n",
       "      <th>Headlines Summary</th>\n",
       "    </tr>\n",
       "  </thead>\n",
       "  <tbody>\n",
       "    <tr>\n",
       "      <th>0</th>\n",
       "      <td>1695</td>\n",
       "      <td>AAPL</td>\n",
       "      <td>Apple Inc</td>\n",
       "      <td>NASDAQ</td>\n",
       "      <td>TelecommunicationsEquipment</td>\n",
       "      <td>athenahealth is set to support the iOS 15 Feat...</td>\n",
       "      <td>2021-06-09</td>\n",
       "      <td>Consumer_Services</td>\n",
       "      <td>It's being announced this afternoon that athen...</td>\n",
       "    </tr>\n",
       "    <tr>\n",
       "      <th>1</th>\n",
       "      <td>1696</td>\n",
       "      <td>AAPL</td>\n",
       "      <td>Apple Inc</td>\n",
       "      <td>NASDAQ</td>\n",
       "      <td>TelecommunicationsEquipment</td>\n",
       "      <td>athenahealth is set to support the iOS 15 Feat...</td>\n",
       "      <td>2021-06-09</td>\n",
       "      <td>EVDY</td>\n",
       "      <td>It's being announced this afternoon that athen...</td>\n",
       "    </tr>\n",
       "    <tr>\n",
       "      <th>2</th>\n",
       "      <td>1697</td>\n",
       "      <td>AAPL</td>\n",
       "      <td>Apple Inc</td>\n",
       "      <td>NASDAQ</td>\n",
       "      <td>TelecommunicationsEquipment</td>\n",
       "      <td>athenahealth is set to support the iOS 15 Feat...</td>\n",
       "      <td>2021-06-09</td>\n",
       "      <td>AAPL</td>\n",
       "      <td>It's being announced this afternoon that athen...</td>\n",
       "    </tr>\n",
       "    <tr>\n",
       "      <th>3</th>\n",
       "      <td>1698</td>\n",
       "      <td>AAPL</td>\n",
       "      <td>Apple Inc</td>\n",
       "      <td>NASDAQ</td>\n",
       "      <td>TelecommunicationsEquipment</td>\n",
       "      <td>athenahealth is set to support the iOS 15 Feat...</td>\n",
       "      <td>2021-06-09</td>\n",
       "      <td>Everyday Health</td>\n",
       "      <td>It's being announced this afternoon that athen...</td>\n",
       "    </tr>\n",
       "    <tr>\n",
       "      <th>4</th>\n",
       "      <td>1699</td>\n",
       "      <td>AAPL</td>\n",
       "      <td>Apple Inc</td>\n",
       "      <td>NASDAQ</td>\n",
       "      <td>TelecommunicationsEquipment</td>\n",
       "      <td>athenahealth is set to support the iOS 15 Feat...</td>\n",
       "      <td>2021-06-09</td>\n",
       "      <td>Technology</td>\n",
       "      <td>It's being announced this afternoon that athen...</td>\n",
       "    </tr>\n",
       "    <tr>\n",
       "      <th>...</th>\n",
       "      <td>...</td>\n",
       "      <td>...</td>\n",
       "      <td>...</td>\n",
       "      <td>...</td>\n",
       "      <td>...</td>\n",
       "      <td>...</td>\n",
       "      <td>...</td>\n",
       "      <td>...</td>\n",
       "      <td>...</td>\n",
       "    </tr>\n",
       "    <tr>\n",
       "      <th>11206</th>\n",
       "      <td>47789</td>\n",
       "      <td>AAPL</td>\n",
       "      <td>Apple Inc</td>\n",
       "      <td>NASDAQ</td>\n",
       "      <td>TelecommunicationsEquipment</td>\n",
       "      <td>Apple reportedly made bid for rap-battle platf...</td>\n",
       "      <td>2021-05-28</td>\n",
       "      <td>AAPL</td>\n",
       "      <td>NaN</td>\n",
       "    </tr>\n",
       "    <tr>\n",
       "      <th>11207</th>\n",
       "      <td>47790</td>\n",
       "      <td>AAPL</td>\n",
       "      <td>Apple Inc</td>\n",
       "      <td>NASDAQ</td>\n",
       "      <td>TelecommunicationsEquipment</td>\n",
       "      <td>Apple reportedly made bid for rap-battle platf...</td>\n",
       "      <td>2021-05-28</td>\n",
       "      <td>Apple Inc.</td>\n",
       "      <td>NaN</td>\n",
       "    </tr>\n",
       "    <tr>\n",
       "      <th>11208</th>\n",
       "      <td>47791</td>\n",
       "      <td>AAPL</td>\n",
       "      <td>Apple Inc</td>\n",
       "      <td>NASDAQ</td>\n",
       "      <td>TelecommunicationsEquipment</td>\n",
       "      <td>Apple reportedly made bid for rap-battle platf...</td>\n",
       "      <td>2021-05-28</td>\n",
       "      <td>Technology</td>\n",
       "      <td>NaN</td>\n",
       "    </tr>\n",
       "    <tr>\n",
       "      <th>11209</th>\n",
       "      <td>47792</td>\n",
       "      <td>AAPL</td>\n",
       "      <td>Apple Inc</td>\n",
       "      <td>NASDAQ</td>\n",
       "      <td>TelecommunicationsEquipment</td>\n",
       "      <td>Apple reportedly made bid for rap-battle platf...</td>\n",
       "      <td>2021-05-28</td>\n",
       "      <td>Business_Finance</td>\n",
       "      <td>NaN</td>\n",
       "    </tr>\n",
       "    <tr>\n",
       "      <th>11210</th>\n",
       "      <td>47793</td>\n",
       "      <td>AAPL</td>\n",
       "      <td>Apple Inc</td>\n",
       "      <td>NASDAQ</td>\n",
       "      <td>TelecommunicationsEquipment</td>\n",
       "      <td>Apple reportedly made bid for rap-battle platf...</td>\n",
       "      <td>2021-05-28</td>\n",
       "      <td>Technology_Internet</td>\n",
       "      <td>NaN</td>\n",
       "    </tr>\n",
       "  </tbody>\n",
       "</table>\n",
       "<p>11211 rows × 9 columns</p>\n",
       "</div>"
      ],
      "text/plain": [
       "       index Security Symbol Security Name Security Market  \\\n",
       "0       1695            AAPL     Apple Inc          NASDAQ   \n",
       "1       1696            AAPL     Apple Inc          NASDAQ   \n",
       "2       1697            AAPL     Apple Inc          NASDAQ   \n",
       "3       1698            AAPL     Apple Inc          NASDAQ   \n",
       "4       1699            AAPL     Apple Inc          NASDAQ   \n",
       "...      ...             ...           ...             ...   \n",
       "11206  47789            AAPL     Apple Inc          NASDAQ   \n",
       "11207  47790            AAPL     Apple Inc          NASDAQ   \n",
       "11208  47791            AAPL     Apple Inc          NASDAQ   \n",
       "11209  47792            AAPL     Apple Inc          NASDAQ   \n",
       "11210  47793            AAPL     Apple Inc          NASDAQ   \n",
       "\n",
       "       Security CategoryOrIndustry  \\\n",
       "0      TelecommunicationsEquipment   \n",
       "1      TelecommunicationsEquipment   \n",
       "2      TelecommunicationsEquipment   \n",
       "3      TelecommunicationsEquipment   \n",
       "4      TelecommunicationsEquipment   \n",
       "...                            ...   \n",
       "11206  TelecommunicationsEquipment   \n",
       "11207  TelecommunicationsEquipment   \n",
       "11208  TelecommunicationsEquipment   \n",
       "11209  TelecommunicationsEquipment   \n",
       "11210  TelecommunicationsEquipment   \n",
       "\n",
       "                                         Headlines Title Headlines Date  \\\n",
       "0      athenahealth is set to support the iOS 15 Feat...     2021-06-09   \n",
       "1      athenahealth is set to support the iOS 15 Feat...     2021-06-09   \n",
       "2      athenahealth is set to support the iOS 15 Feat...     2021-06-09   \n",
       "3      athenahealth is set to support the iOS 15 Feat...     2021-06-09   \n",
       "4      athenahealth is set to support the iOS 15 Feat...     2021-06-09   \n",
       "...                                                  ...            ...   \n",
       "11206  Apple reportedly made bid for rap-battle platf...     2021-05-28   \n",
       "11207  Apple reportedly made bid for rap-battle platf...     2021-05-28   \n",
       "11208  Apple reportedly made bid for rap-battle platf...     2021-05-28   \n",
       "11209  Apple reportedly made bid for rap-battle platf...     2021-05-28   \n",
       "11210  Apple reportedly made bid for rap-battle platf...     2021-05-28   \n",
       "\n",
       "      Headlines Tags TagValues  \\\n",
       "0            Consumer_Services   \n",
       "1                         EVDY   \n",
       "2                         AAPL   \n",
       "3              Everyday Health   \n",
       "4                   Technology   \n",
       "...                        ...   \n",
       "11206                     AAPL   \n",
       "11207               Apple Inc.   \n",
       "11208               Technology   \n",
       "11209         Business_Finance   \n",
       "11210      Technology_Internet   \n",
       "\n",
       "                                       Headlines Summary  \n",
       "0      It's being announced this afternoon that athen...  \n",
       "1      It's being announced this afternoon that athen...  \n",
       "2      It's being announced this afternoon that athen...  \n",
       "3      It's being announced this afternoon that athen...  \n",
       "4      It's being announced this afternoon that athen...  \n",
       "...                                                  ...  \n",
       "11206                                                NaN  \n",
       "11207                                                NaN  \n",
       "11208                                                NaN  \n",
       "11209                                                NaN  \n",
       "11210                                                NaN  \n",
       "\n",
       "[11211 rows x 9 columns]"
      ]
     },
     "execution_count": 407,
     "metadata": {},
     "output_type": "execute_result"
    }
   ],
   "source": [
    "data"
   ]
  },
  {
   "cell_type": "code",
   "execution_count": 408,
   "metadata": {},
   "outputs": [
    {
     "data": {
      "text/plain": [
       "TelecommunicationsEquipment    11211\n",
       "Name: Security CategoryOrIndustry, dtype: int64"
      ]
     },
     "execution_count": 408,
     "metadata": {},
     "output_type": "execute_result"
    }
   ],
   "source": [
    "data['Security CategoryOrIndustry'].value_counts()"
   ]
  },
  {
   "cell_type": "code",
   "execution_count": 409,
   "metadata": {},
   "outputs": [
    {
     "data": {
      "text/plain": [
       "Apple Inc    11211\n",
       "Name: Security Name, dtype: int64"
      ]
     },
     "execution_count": 409,
     "metadata": {},
     "output_type": "execute_result"
    }
   ],
   "source": [
    "data['Security Name'].value_counts()"
   ]
  },
  {
   "cell_type": "code",
   "execution_count": 410,
   "metadata": {},
   "outputs": [
    {
     "data": {
      "text/plain": [
       "NASDAQ    11211\n",
       "Name: Security Market, dtype: int64"
      ]
     },
     "execution_count": 410,
     "metadata": {},
     "output_type": "execute_result"
    }
   ],
   "source": [
    "data['Security Market'].value_counts()"
   ]
  },
  {
   "cell_type": "code",
   "execution_count": 411,
   "metadata": {},
   "outputs": [
    {
     "data": {
      "text/plain": [
       "AAPL                   994\n",
       "Technology             865\n",
       "Apple Inc.             816\n",
       "Technology_Internet    648\n",
       "Business_Finance       291\n",
       "                      ... \n",
       "AXTA                     1\n",
       "LMCB                     1\n",
       "Influencer Inc.          1\n",
       "SF                       1\n",
       "TREX                     1\n",
       "Name: Headlines Tags TagValues, Length: 1819, dtype: int64"
      ]
     },
     "execution_count": 411,
     "metadata": {},
     "output_type": "execute_result"
    }
   ],
   "source": [
    "data['Headlines Tags TagValues'].value_counts()"
   ]
  },
  {
   "cell_type": "code",
   "execution_count": 412,
   "metadata": {},
   "outputs": [
    {
     "name": "stderr",
     "output_type": "stream",
     "text": [
      "C:\\Users\\rmkis\\anaconda3\\lib\\site-packages\\pandas\\core\\frame.py:4163: SettingWithCopyWarning: \n",
      "A value is trying to be set on a copy of a slice from a DataFrame\n",
      "\n",
      "See the caveats in the documentation: https://pandas.pydata.org/pandas-docs/stable/user_guide/indexing.html#returning-a-view-versus-a-copy\n",
      "  return super().drop(\n"
     ]
    }
   ],
   "source": [
    "data.drop(['Security CategoryOrIndustry','Headlines Tags TagValues','Security Name','Security Market','Security Symbol'],axis=1,inplace=True)"
   ]
  },
  {
   "cell_type": "code",
   "execution_count": 413,
   "metadata": {},
   "outputs": [
    {
     "name": "stderr",
     "output_type": "stream",
     "text": [
      "C:\\Users\\rmkis\\anaconda3\\lib\\site-packages\\pandas\\core\\frame.py:4296: SettingWithCopyWarning: \n",
      "A value is trying to be set on a copy of a slice from a DataFrame\n",
      "\n",
      "See the caveats in the documentation: https://pandas.pydata.org/pandas-docs/stable/user_guide/indexing.html#returning-a-view-versus-a-copy\n",
      "  return super().rename(\n"
     ]
    }
   ],
   "source": [
    "data.rename(columns={'Headlines Date':'Date'},inplace=True)"
   ]
  },
  {
   "cell_type": "code",
   "execution_count": 414,
   "metadata": {},
   "outputs": [
    {
     "name": "stderr",
     "output_type": "stream",
     "text": [
      "<ipython-input-414-7551448d4e13>:1: SettingWithCopyWarning: \n",
      "A value is trying to be set on a copy of a slice from a DataFrame\n",
      "\n",
      "See the caveats in the documentation: https://pandas.pydata.org/pandas-docs/stable/user_guide/indexing.html#returning-a-view-versus-a-copy\n",
      "  data.sort_index(axis = 1,inplace=True)\n"
     ]
    }
   ],
   "source": [
    "data.sort_index(axis = 1,inplace=True)"
   ]
  },
  {
   "cell_type": "code",
   "execution_count": 415,
   "metadata": {},
   "outputs": [
    {
     "data": {
      "text/plain": [
       "0"
      ]
     },
     "execution_count": 415,
     "metadata": {},
     "output_type": "execute_result"
    }
   ],
   "source": [
    "data.duplicated().sum()"
   ]
  },
  {
   "cell_type": "code",
   "execution_count": 416,
   "metadata": {},
   "outputs": [
    {
     "name": "stderr",
     "output_type": "stream",
     "text": [
      "C:\\Users\\rmkis\\anaconda3\\lib\\site-packages\\pandas\\core\\series.py:4517: SettingWithCopyWarning: \n",
      "A value is trying to be set on a copy of a slice from a DataFrame\n",
      "\n",
      "See the caveats in the documentation: https://pandas.pydata.org/pandas-docs/stable/user_guide/indexing.html#returning-a-view-versus-a-copy\n",
      "  return super().fillna(\n"
     ]
    }
   ],
   "source": [
    "data['Headlines Summary'].fillna(\"\",inplace=True)"
   ]
  },
  {
   "cell_type": "code",
   "execution_count": 417,
   "metadata": {},
   "outputs": [
    {
     "data": {
      "text/html": [
       "<div>\n",
       "<style scoped>\n",
       "    .dataframe tbody tr th:only-of-type {\n",
       "        vertical-align: middle;\n",
       "    }\n",
       "\n",
       "    .dataframe tbody tr th {\n",
       "        vertical-align: top;\n",
       "    }\n",
       "\n",
       "    .dataframe thead th {\n",
       "        text-align: right;\n",
       "    }\n",
       "</style>\n",
       "<table border=\"1\" class=\"dataframe\">\n",
       "  <thead>\n",
       "    <tr style=\"text-align: right;\">\n",
       "      <th></th>\n",
       "      <th>Date</th>\n",
       "      <th>Headlines Summary</th>\n",
       "      <th>Headlines Title</th>\n",
       "      <th>index</th>\n",
       "    </tr>\n",
       "  </thead>\n",
       "  <tbody>\n",
       "    <tr>\n",
       "      <th>0</th>\n",
       "      <td>2021-06-09</td>\n",
       "      <td>It's being announced this afternoon that athen...</td>\n",
       "      <td>athenahealth is set to support the iOS 15 Feat...</td>\n",
       "      <td>1695</td>\n",
       "    </tr>\n",
       "    <tr>\n",
       "      <th>1</th>\n",
       "      <td>2021-06-09</td>\n",
       "      <td>It's being announced this afternoon that athen...</td>\n",
       "      <td>athenahealth is set to support the iOS 15 Feat...</td>\n",
       "      <td>1696</td>\n",
       "    </tr>\n",
       "    <tr>\n",
       "      <th>2</th>\n",
       "      <td>2021-06-09</td>\n",
       "      <td>It's being announced this afternoon that athen...</td>\n",
       "      <td>athenahealth is set to support the iOS 15 Feat...</td>\n",
       "      <td>1697</td>\n",
       "    </tr>\n",
       "    <tr>\n",
       "      <th>3</th>\n",
       "      <td>2021-06-09</td>\n",
       "      <td>It's being announced this afternoon that athen...</td>\n",
       "      <td>athenahealth is set to support the iOS 15 Feat...</td>\n",
       "      <td>1698</td>\n",
       "    </tr>\n",
       "    <tr>\n",
       "      <th>4</th>\n",
       "      <td>2021-06-09</td>\n",
       "      <td>It's being announced this afternoon that athen...</td>\n",
       "      <td>athenahealth is set to support the iOS 15 Feat...</td>\n",
       "      <td>1699</td>\n",
       "    </tr>\n",
       "    <tr>\n",
       "      <th>...</th>\n",
       "      <td>...</td>\n",
       "      <td>...</td>\n",
       "      <td>...</td>\n",
       "      <td>...</td>\n",
       "    </tr>\n",
       "    <tr>\n",
       "      <th>11206</th>\n",
       "      <td>2021-05-28</td>\n",
       "      <td></td>\n",
       "      <td>Apple reportedly made bid for rap-battle platf...</td>\n",
       "      <td>47789</td>\n",
       "    </tr>\n",
       "    <tr>\n",
       "      <th>11207</th>\n",
       "      <td>2021-05-28</td>\n",
       "      <td></td>\n",
       "      <td>Apple reportedly made bid for rap-battle platf...</td>\n",
       "      <td>47790</td>\n",
       "    </tr>\n",
       "    <tr>\n",
       "      <th>11208</th>\n",
       "      <td>2021-05-28</td>\n",
       "      <td></td>\n",
       "      <td>Apple reportedly made bid for rap-battle platf...</td>\n",
       "      <td>47791</td>\n",
       "    </tr>\n",
       "    <tr>\n",
       "      <th>11209</th>\n",
       "      <td>2021-05-28</td>\n",
       "      <td></td>\n",
       "      <td>Apple reportedly made bid for rap-battle platf...</td>\n",
       "      <td>47792</td>\n",
       "    </tr>\n",
       "    <tr>\n",
       "      <th>11210</th>\n",
       "      <td>2021-05-28</td>\n",
       "      <td></td>\n",
       "      <td>Apple reportedly made bid for rap-battle platf...</td>\n",
       "      <td>47793</td>\n",
       "    </tr>\n",
       "  </tbody>\n",
       "</table>\n",
       "<p>11211 rows × 4 columns</p>\n",
       "</div>"
      ],
      "text/plain": [
       "            Date                                  Headlines Summary  \\\n",
       "0     2021-06-09  It's being announced this afternoon that athen...   \n",
       "1     2021-06-09  It's being announced this afternoon that athen...   \n",
       "2     2021-06-09  It's being announced this afternoon that athen...   \n",
       "3     2021-06-09  It's being announced this afternoon that athen...   \n",
       "4     2021-06-09  It's being announced this afternoon that athen...   \n",
       "...          ...                                                ...   \n",
       "11206 2021-05-28                                                      \n",
       "11207 2021-05-28                                                      \n",
       "11208 2021-05-28                                                      \n",
       "11209 2021-05-28                                                      \n",
       "11210 2021-05-28                                                      \n",
       "\n",
       "                                         Headlines Title  index  \n",
       "0      athenahealth is set to support the iOS 15 Feat...   1695  \n",
       "1      athenahealth is set to support the iOS 15 Feat...   1696  \n",
       "2      athenahealth is set to support the iOS 15 Feat...   1697  \n",
       "3      athenahealth is set to support the iOS 15 Feat...   1698  \n",
       "4      athenahealth is set to support the iOS 15 Feat...   1699  \n",
       "...                                                  ...    ...  \n",
       "11206  Apple reportedly made bid for rap-battle platf...  47789  \n",
       "11207  Apple reportedly made bid for rap-battle platf...  47790  \n",
       "11208  Apple reportedly made bid for rap-battle platf...  47791  \n",
       "11209  Apple reportedly made bid for rap-battle platf...  47792  \n",
       "11210  Apple reportedly made bid for rap-battle platf...  47793  \n",
       "\n",
       "[11211 rows x 4 columns]"
      ]
     },
     "execution_count": 417,
     "metadata": {},
     "output_type": "execute_result"
    }
   ],
   "source": [
    "data"
   ]
  },
  {
   "cell_type": "code",
   "execution_count": 418,
   "metadata": {},
   "outputs": [
    {
     "data": {
      "text/plain": [
       "\"It's being announced this afternoon that athenahealth, a leading provider of network-enabled software and services for medical groups and health systems nationwide, will support iOS 15 so as to allow its U.S. customers to share important everyday health information stored in the Apple Health app ...\""
      ]
     },
     "execution_count": 418,
     "metadata": {},
     "output_type": "execute_result"
    }
   ],
   "source": [
    "data['Headlines Summary'][1]"
   ]
  },
  {
   "cell_type": "code",
   "execution_count": 422,
   "metadata": {},
   "outputs": [
    {
     "name": "stderr",
     "output_type": "stream",
     "text": [
      "<ipython-input-422-32e6cd6468eb>:2: SettingWithCopyWarning: \n",
      "A value is trying to be set on a copy of a slice from a DataFrame\n",
      "\n",
      "See the caveats in the documentation: https://pandas.pydata.org/pandas-docs/stable/user_guide/indexing.html#returning-a-view-versus-a-copy\n",
      "  data['Headlines'][row]=' '.join(str(i) for i in data.iloc[row,1:3])\n",
      "C:\\Users\\rmkis\\anaconda3\\lib\\site-packages\\IPython\\core\\interactiveshell.py:3418: SettingWithCopyWarning: \n",
      "A value is trying to be set on a copy of a slice from a DataFrame\n",
      "\n",
      "See the caveats in the documentation: https://pandas.pydata.org/pandas-docs/stable/user_guide/indexing.html#returning-a-view-versus-a-copy\n",
      "  exec(code_obj, self.user_global_ns, self.user_ns)\n"
     ]
    }
   ],
   "source": [
    "for row in range(0,len(data.index)):\n",
    "    data['Headlines'][row]=' '.join(str(i) for i in data.iloc[row,1:3])"
   ]
  },
  {
   "cell_type": "code",
   "execution_count": 423,
   "metadata": {},
   "outputs": [
    {
     "data": {
      "text/html": [
       "<div>\n",
       "<style scoped>\n",
       "    .dataframe tbody tr th:only-of-type {\n",
       "        vertical-align: middle;\n",
       "    }\n",
       "\n",
       "    .dataframe tbody tr th {\n",
       "        vertical-align: top;\n",
       "    }\n",
       "\n",
       "    .dataframe thead th {\n",
       "        text-align: right;\n",
       "    }\n",
       "</style>\n",
       "<table border=\"1\" class=\"dataframe\">\n",
       "  <thead>\n",
       "    <tr style=\"text-align: right;\">\n",
       "      <th></th>\n",
       "      <th>Date</th>\n",
       "      <th>Headlines Summary</th>\n",
       "      <th>Headlines Title</th>\n",
       "      <th>index</th>\n",
       "      <th>Headlines</th>\n",
       "    </tr>\n",
       "  </thead>\n",
       "  <tbody>\n",
       "    <tr>\n",
       "      <th>0</th>\n",
       "      <td>2021-06-09</td>\n",
       "      <td>It's being announced this afternoon that athen...</td>\n",
       "      <td>athenahealth is set to support the iOS 15 Feat...</td>\n",
       "      <td>1695</td>\n",
       "      <td>It's being announced this afternoon that athen...</td>\n",
       "    </tr>\n",
       "    <tr>\n",
       "      <th>1</th>\n",
       "      <td>2021-06-09</td>\n",
       "      <td>It's being announced this afternoon that athen...</td>\n",
       "      <td>athenahealth is set to support the iOS 15 Feat...</td>\n",
       "      <td>1696</td>\n",
       "      <td>It's being announced this afternoon that athen...</td>\n",
       "    </tr>\n",
       "    <tr>\n",
       "      <th>2</th>\n",
       "      <td>2021-06-09</td>\n",
       "      <td>It's being announced this afternoon that athen...</td>\n",
       "      <td>athenahealth is set to support the iOS 15 Feat...</td>\n",
       "      <td>1697</td>\n",
       "      <td>It's being announced this afternoon that athen...</td>\n",
       "    </tr>\n",
       "    <tr>\n",
       "      <th>3</th>\n",
       "      <td>2021-06-09</td>\n",
       "      <td>It's being announced this afternoon that athen...</td>\n",
       "      <td>athenahealth is set to support the iOS 15 Feat...</td>\n",
       "      <td>1698</td>\n",
       "      <td>It's being announced this afternoon that athen...</td>\n",
       "    </tr>\n",
       "    <tr>\n",
       "      <th>4</th>\n",
       "      <td>2021-06-09</td>\n",
       "      <td>It's being announced this afternoon that athen...</td>\n",
       "      <td>athenahealth is set to support the iOS 15 Feat...</td>\n",
       "      <td>1699</td>\n",
       "      <td>It's being announced this afternoon that athen...</td>\n",
       "    </tr>\n",
       "    <tr>\n",
       "      <th>...</th>\n",
       "      <td>...</td>\n",
       "      <td>...</td>\n",
       "      <td>...</td>\n",
       "      <td>...</td>\n",
       "      <td>...</td>\n",
       "    </tr>\n",
       "    <tr>\n",
       "      <th>11206</th>\n",
       "      <td>2021-05-28</td>\n",
       "      <td></td>\n",
       "      <td>Apple reportedly made bid for rap-battle platf...</td>\n",
       "      <td>47789</td>\n",
       "      <td>Apple reportedly made bid for rap-battle plat...</td>\n",
       "    </tr>\n",
       "    <tr>\n",
       "      <th>11207</th>\n",
       "      <td>2021-05-28</td>\n",
       "      <td></td>\n",
       "      <td>Apple reportedly made bid for rap-battle platf...</td>\n",
       "      <td>47790</td>\n",
       "      <td>Apple reportedly made bid for rap-battle plat...</td>\n",
       "    </tr>\n",
       "    <tr>\n",
       "      <th>11208</th>\n",
       "      <td>2021-05-28</td>\n",
       "      <td></td>\n",
       "      <td>Apple reportedly made bid for rap-battle platf...</td>\n",
       "      <td>47791</td>\n",
       "      <td>Apple reportedly made bid for rap-battle plat...</td>\n",
       "    </tr>\n",
       "    <tr>\n",
       "      <th>11209</th>\n",
       "      <td>2021-05-28</td>\n",
       "      <td></td>\n",
       "      <td>Apple reportedly made bid for rap-battle platf...</td>\n",
       "      <td>47792</td>\n",
       "      <td>Apple reportedly made bid for rap-battle plat...</td>\n",
       "    </tr>\n",
       "    <tr>\n",
       "      <th>11210</th>\n",
       "      <td>2021-05-28</td>\n",
       "      <td></td>\n",
       "      <td>Apple reportedly made bid for rap-battle platf...</td>\n",
       "      <td>47793</td>\n",
       "      <td>Apple reportedly made bid for rap-battle plat...</td>\n",
       "    </tr>\n",
       "  </tbody>\n",
       "</table>\n",
       "<p>11211 rows × 5 columns</p>\n",
       "</div>"
      ],
      "text/plain": [
       "            Date                                  Headlines Summary  \\\n",
       "0     2021-06-09  It's being announced this afternoon that athen...   \n",
       "1     2021-06-09  It's being announced this afternoon that athen...   \n",
       "2     2021-06-09  It's being announced this afternoon that athen...   \n",
       "3     2021-06-09  It's being announced this afternoon that athen...   \n",
       "4     2021-06-09  It's being announced this afternoon that athen...   \n",
       "...          ...                                                ...   \n",
       "11206 2021-05-28                                                      \n",
       "11207 2021-05-28                                                      \n",
       "11208 2021-05-28                                                      \n",
       "11209 2021-05-28                                                      \n",
       "11210 2021-05-28                                                      \n",
       "\n",
       "                                         Headlines Title  index  \\\n",
       "0      athenahealth is set to support the iOS 15 Feat...   1695   \n",
       "1      athenahealth is set to support the iOS 15 Feat...   1696   \n",
       "2      athenahealth is set to support the iOS 15 Feat...   1697   \n",
       "3      athenahealth is set to support the iOS 15 Feat...   1698   \n",
       "4      athenahealth is set to support the iOS 15 Feat...   1699   \n",
       "...                                                  ...    ...   \n",
       "11206  Apple reportedly made bid for rap-battle platf...  47789   \n",
       "11207  Apple reportedly made bid for rap-battle platf...  47790   \n",
       "11208  Apple reportedly made bid for rap-battle platf...  47791   \n",
       "11209  Apple reportedly made bid for rap-battle platf...  47792   \n",
       "11210  Apple reportedly made bid for rap-battle platf...  47793   \n",
       "\n",
       "                                               Headlines  \n",
       "0      It's being announced this afternoon that athen...  \n",
       "1      It's being announced this afternoon that athen...  \n",
       "2      It's being announced this afternoon that athen...  \n",
       "3      It's being announced this afternoon that athen...  \n",
       "4      It's being announced this afternoon that athen...  \n",
       "...                                                  ...  \n",
       "11206   Apple reportedly made bid for rap-battle plat...  \n",
       "11207   Apple reportedly made bid for rap-battle plat...  \n",
       "11208   Apple reportedly made bid for rap-battle plat...  \n",
       "11209   Apple reportedly made bid for rap-battle plat...  \n",
       "11210   Apple reportedly made bid for rap-battle plat...  \n",
       "\n",
       "[11211 rows x 5 columns]"
      ]
     },
     "execution_count": 423,
     "metadata": {},
     "output_type": "execute_result"
    }
   ],
   "source": [
    "data"
   ]
  },
  {
   "cell_type": "code",
   "execution_count": 424,
   "metadata": {},
   "outputs": [
    {
     "name": "stderr",
     "output_type": "stream",
     "text": [
      "C:\\Users\\rmkis\\anaconda3\\lib\\site-packages\\pandas\\core\\frame.py:4163: SettingWithCopyWarning: \n",
      "A value is trying to be set on a copy of a slice from a DataFrame\n",
      "\n",
      "See the caveats in the documentation: https://pandas.pydata.org/pandas-docs/stable/user_guide/indexing.html#returning-a-view-versus-a-copy\n",
      "  return super().drop(\n"
     ]
    }
   ],
   "source": [
    "data.drop(['Headlines Summary','Headlines Title','index'],axis=1,inplace=True)"
   ]
  },
  {
   "cell_type": "code",
   "execution_count": 425,
   "metadata": {},
   "outputs": [
    {
     "data": {
      "text/html": [
       "<div>\n",
       "<style scoped>\n",
       "    .dataframe tbody tr th:only-of-type {\n",
       "        vertical-align: middle;\n",
       "    }\n",
       "\n",
       "    .dataframe tbody tr th {\n",
       "        vertical-align: top;\n",
       "    }\n",
       "\n",
       "    .dataframe thead th {\n",
       "        text-align: right;\n",
       "    }\n",
       "</style>\n",
       "<table border=\"1\" class=\"dataframe\">\n",
       "  <thead>\n",
       "    <tr style=\"text-align: right;\">\n",
       "      <th></th>\n",
       "      <th>Date</th>\n",
       "      <th>Headlines</th>\n",
       "    </tr>\n",
       "  </thead>\n",
       "  <tbody>\n",
       "    <tr>\n",
       "      <th>0</th>\n",
       "      <td>2021-06-09</td>\n",
       "      <td>It's being announced this afternoon that athen...</td>\n",
       "    </tr>\n",
       "    <tr>\n",
       "      <th>1</th>\n",
       "      <td>2021-06-09</td>\n",
       "      <td>It's being announced this afternoon that athen...</td>\n",
       "    </tr>\n",
       "    <tr>\n",
       "      <th>2</th>\n",
       "      <td>2021-06-09</td>\n",
       "      <td>It's being announced this afternoon that athen...</td>\n",
       "    </tr>\n",
       "    <tr>\n",
       "      <th>3</th>\n",
       "      <td>2021-06-09</td>\n",
       "      <td>It's being announced this afternoon that athen...</td>\n",
       "    </tr>\n",
       "    <tr>\n",
       "      <th>4</th>\n",
       "      <td>2021-06-09</td>\n",
       "      <td>It's being announced this afternoon that athen...</td>\n",
       "    </tr>\n",
       "    <tr>\n",
       "      <th>...</th>\n",
       "      <td>...</td>\n",
       "      <td>...</td>\n",
       "    </tr>\n",
       "    <tr>\n",
       "      <th>11206</th>\n",
       "      <td>2021-05-28</td>\n",
       "      <td>Apple reportedly made bid for rap-battle plat...</td>\n",
       "    </tr>\n",
       "    <tr>\n",
       "      <th>11207</th>\n",
       "      <td>2021-05-28</td>\n",
       "      <td>Apple reportedly made bid for rap-battle plat...</td>\n",
       "    </tr>\n",
       "    <tr>\n",
       "      <th>11208</th>\n",
       "      <td>2021-05-28</td>\n",
       "      <td>Apple reportedly made bid for rap-battle plat...</td>\n",
       "    </tr>\n",
       "    <tr>\n",
       "      <th>11209</th>\n",
       "      <td>2021-05-28</td>\n",
       "      <td>Apple reportedly made bid for rap-battle plat...</td>\n",
       "    </tr>\n",
       "    <tr>\n",
       "      <th>11210</th>\n",
       "      <td>2021-05-28</td>\n",
       "      <td>Apple reportedly made bid for rap-battle plat...</td>\n",
       "    </tr>\n",
       "  </tbody>\n",
       "</table>\n",
       "<p>11211 rows × 2 columns</p>\n",
       "</div>"
      ],
      "text/plain": [
       "            Date                                          Headlines\n",
       "0     2021-06-09  It's being announced this afternoon that athen...\n",
       "1     2021-06-09  It's being announced this afternoon that athen...\n",
       "2     2021-06-09  It's being announced this afternoon that athen...\n",
       "3     2021-06-09  It's being announced this afternoon that athen...\n",
       "4     2021-06-09  It's being announced this afternoon that athen...\n",
       "...          ...                                                ...\n",
       "11206 2021-05-28   Apple reportedly made bid for rap-battle plat...\n",
       "11207 2021-05-28   Apple reportedly made bid for rap-battle plat...\n",
       "11208 2021-05-28   Apple reportedly made bid for rap-battle plat...\n",
       "11209 2021-05-28   Apple reportedly made bid for rap-battle plat...\n",
       "11210 2021-05-28   Apple reportedly made bid for rap-battle plat...\n",
       "\n",
       "[11211 rows x 2 columns]"
      ]
     },
     "execution_count": 425,
     "metadata": {},
     "output_type": "execute_result"
    }
   ],
   "source": [
    "data"
   ]
  },
  {
   "cell_type": "code",
   "execution_count": 426,
   "metadata": {},
   "outputs": [
    {
     "name": "stderr",
     "output_type": "stream",
     "text": [
      "<ipython-input-426-4d3b310d99b6>:1: SettingWithCopyWarning: \n",
      "A value is trying to be set on a copy of a slice from a DataFrame.\n",
      "Try using .loc[row_indexer,col_indexer] = value instead\n",
      "\n",
      "See the caveats in the documentation: https://pandas.pydata.org/pandas-docs/stable/user_guide/indexing.html#returning-a-view-versus-a-copy\n",
      "  data['Headlines']=data['Headlines'].apply(punctuation_removal)\n"
     ]
    }
   ],
   "source": [
    "data['Headlines']=data['Headlines'].apply(punctuation_removal)"
   ]
  },
  {
   "cell_type": "code",
   "execution_count": 427,
   "metadata": {},
   "outputs": [
    {
     "name": "stderr",
     "output_type": "stream",
     "text": [
      "<ipython-input-427-b48f4c8b4882>:1: SettingWithCopyWarning: \n",
      "A value is trying to be set on a copy of a slice from a DataFrame.\n",
      "Try using .loc[row_indexer,col_indexer] = value instead\n",
      "\n",
      "See the caveats in the documentation: https://pandas.pydata.org/pandas-docs/stable/user_guide/indexing.html#returning-a-view-versus-a-copy\n",
      "  data['Headlines']=data['Headlines'].astype(str)\n",
      "<ipython-input-427-b48f4c8b4882>:2: SettingWithCopyWarning: \n",
      "A value is trying to be set on a copy of a slice from a DataFrame.\n",
      "Try using .loc[row_indexer,col_indexer] = value instead\n",
      "\n",
      "See the caveats in the documentation: https://pandas.pydata.org/pandas-docs/stable/user_guide/indexing.html#returning-a-view-versus-a-copy\n",
      "  data['Headlines'] = data['Headlines'].apply(lambda x: ' '.join([word for word in x.split() if word not in (stop)]))\n"
     ]
    }
   ],
   "source": [
    "data['Headlines']=data['Headlines'].astype(str)\n",
    "data['Headlines'] = data['Headlines'].apply(lambda x: ' '.join([word for word in x.split() if word not in (stop)]))"
   ]
  },
  {
   "cell_type": "code",
   "execution_count": 428,
   "metadata": {},
   "outputs": [
    {
     "name": "stderr",
     "output_type": "stream",
     "text": [
      "<ipython-input-428-e49c983de013>:1: SettingWithCopyWarning: \n",
      "A value is trying to be set on a copy of a slice from a DataFrame.\n",
      "Try using .loc[row_indexer,col_indexer] = value instead\n",
      "\n",
      "See the caveats in the documentation: https://pandas.pydata.org/pandas-docs/stable/user_guide/indexing.html#returning-a-view-versus-a-copy\n",
      "  data['Headlines'] = data['Headlines'].apply(split_to_lemma)\n"
     ]
    }
   ],
   "source": [
    "data['Headlines'] = data['Headlines'].apply(split_to_lemma)"
   ]
  },
  {
   "cell_type": "code",
   "execution_count": 429,
   "metadata": {},
   "outputs": [],
   "source": [
    "final_dataset=pd.merge(df,data,on=['Date'],how='outer')"
   ]
  },
  {
   "cell_type": "code",
   "execution_count": 430,
   "metadata": {},
   "outputs": [
    {
     "data": {
      "text/html": [
       "<div>\n",
       "<style scoped>\n",
       "    .dataframe tbody tr th:only-of-type {\n",
       "        vertical-align: middle;\n",
       "    }\n",
       "\n",
       "    .dataframe tbody tr th {\n",
       "        vertical-align: top;\n",
       "    }\n",
       "\n",
       "    .dataframe thead th {\n",
       "        text-align: right;\n",
       "    }\n",
       "</style>\n",
       "<table border=\"1\" class=\"dataframe\">\n",
       "  <thead>\n",
       "    <tr style=\"text-align: right;\">\n",
       "      <th></th>\n",
       "      <th>Date</th>\n",
       "      <th>Close</th>\n",
       "      <th>Volume</th>\n",
       "      <th>Open</th>\n",
       "      <th>High</th>\n",
       "      <th>Low</th>\n",
       "      <th>Headlines_x</th>\n",
       "      <th>Headlines_y</th>\n",
       "    </tr>\n",
       "  </thead>\n",
       "  <tbody>\n",
       "    <tr>\n",
       "      <th>0</th>\n",
       "      <td>2021-06-23</td>\n",
       "      <td>133.700000</td>\n",
       "      <td>6.021420e+07</td>\n",
       "      <td>133.770000</td>\n",
       "      <td>134.320000</td>\n",
       "      <td>133.230000</td>\n",
       "      <td>french court set date apple case app store dev...</td>\n",
       "      <td>NaN</td>\n",
       "    </tr>\n",
       "    <tr>\n",
       "      <th>1</th>\n",
       "      <td>2021-06-22</td>\n",
       "      <td>133.980000</td>\n",
       "      <td>7.478362e+07</td>\n",
       "      <td>132.130000</td>\n",
       "      <td>134.080000</td>\n",
       "      <td>131.620000</td>\n",
       "      <td>google likely soon face antitrust claim play s...</td>\n",
       "      <td>NaN</td>\n",
       "    </tr>\n",
       "    <tr>\n",
       "      <th>2</th>\n",
       "      <td>2021-06-21</td>\n",
       "      <td>132.300000</td>\n",
       "      <td>7.966332e+07</td>\n",
       "      <td>130.300000</td>\n",
       "      <td>132.410000</td>\n",
       "      <td>129.210000</td>\n",
       "      <td>apple shortening new free tv plus trial year t...</td>\n",
       "      <td>NaN</td>\n",
       "    </tr>\n",
       "    <tr>\n",
       "      <th>3</th>\n",
       "      <td>2021-06-18</td>\n",
       "      <td>130.460000</td>\n",
       "      <td>1.089533e+08</td>\n",
       "      <td>130.710000</td>\n",
       "      <td>131.510000</td>\n",
       "      <td>130.240000</td>\n",
       "      <td>well fargo update bestideas signature pick lis...</td>\n",
       "      <td>NaN</td>\n",
       "    </tr>\n",
       "    <tr>\n",
       "      <th>4</th>\n",
       "      <td>2021-06-17</td>\n",
       "      <td>131.790000</td>\n",
       "      <td>9.672167e+07</td>\n",
       "      <td>129.800000</td>\n",
       "      <td>132.550000</td>\n",
       "      <td>129.650000</td>\n",
       "      <td>apple award grant computer chip course histori...</td>\n",
       "      <td>NaN</td>\n",
       "    </tr>\n",
       "    <tr>\n",
       "      <th>...</th>\n",
       "      <td>...</td>\n",
       "      <td>...</td>\n",
       "      <td>...</td>\n",
       "      <td>...</td>\n",
       "      <td>...</td>\n",
       "      <td>...</td>\n",
       "      <td>...</td>\n",
       "      <td>...</td>\n",
       "    </tr>\n",
       "    <tr>\n",
       "      <th>13558</th>\n",
       "      <td>2021-06-06</td>\n",
       "      <td>62.229443</td>\n",
       "      <td>1.251431e+08</td>\n",
       "      <td>62.189158</td>\n",
       "      <td>62.858732</td>\n",
       "      <td>61.533235</td>\n",
       "      <td>facebookquots trump ban last least 2 year glob...</td>\n",
       "      <td>China boast Apple supplier country sign Washin...</td>\n",
       "    </tr>\n",
       "    <tr>\n",
       "      <th>13559</th>\n",
       "      <td>2021-06-12</td>\n",
       "      <td>62.229443</td>\n",
       "      <td>1.251431e+08</td>\n",
       "      <td>62.189158</td>\n",
       "      <td>62.858732</td>\n",
       "      <td>61.533235</td>\n",
       "      <td>japan start antitrust probe apple google nikke...</td>\n",
       "      <td>NaN</td>\n",
       "    </tr>\n",
       "    <tr>\n",
       "      <th>13560</th>\n",
       "      <td>2021-06-13</td>\n",
       "      <td>62.229443</td>\n",
       "      <td>1.251431e+08</td>\n",
       "      <td>62.189158</td>\n",
       "      <td>62.858732</td>\n",
       "      <td>61.533235</td>\n",
       "      <td>watch next oil crisis sector watch apple store...</td>\n",
       "      <td>NaN</td>\n",
       "    </tr>\n",
       "    <tr>\n",
       "      <th>13561</th>\n",
       "      <td>2021-06-19</td>\n",
       "      <td>62.229443</td>\n",
       "      <td>1.251431e+08</td>\n",
       "      <td>62.189158</td>\n",
       "      <td>62.858732</td>\n",
       "      <td>61.533235</td>\n",
       "      <td>best preprime day smartwatch deal apple watch ...</td>\n",
       "      <td>NaN</td>\n",
       "    </tr>\n",
       "    <tr>\n",
       "      <th>13562</th>\n",
       "      <td>2021-06-20</td>\n",
       "      <td>62.229443</td>\n",
       "      <td>1.251431e+08</td>\n",
       "      <td>62.189158</td>\n",
       "      <td>62.858732</td>\n",
       "      <td>61.533235</td>\n",
       "      <td>iphone 13 rumor apple fall event get closer se...</td>\n",
       "      <td>NaN</td>\n",
       "    </tr>\n",
       "  </tbody>\n",
       "</table>\n",
       "<p>13563 rows × 8 columns</p>\n",
       "</div>"
      ],
      "text/plain": [
       "            Date       Close        Volume        Open        High  \\\n",
       "0     2021-06-23  133.700000  6.021420e+07  133.770000  134.320000   \n",
       "1     2021-06-22  133.980000  7.478362e+07  132.130000  134.080000   \n",
       "2     2021-06-21  132.300000  7.966332e+07  130.300000  132.410000   \n",
       "3     2021-06-18  130.460000  1.089533e+08  130.710000  131.510000   \n",
       "4     2021-06-17  131.790000  9.672167e+07  129.800000  132.550000   \n",
       "...          ...         ...           ...         ...         ...   \n",
       "13558 2021-06-06   62.229443  1.251431e+08   62.189158   62.858732   \n",
       "13559 2021-06-12   62.229443  1.251431e+08   62.189158   62.858732   \n",
       "13560 2021-06-13   62.229443  1.251431e+08   62.189158   62.858732   \n",
       "13561 2021-06-19   62.229443  1.251431e+08   62.189158   62.858732   \n",
       "13562 2021-06-20   62.229443  1.251431e+08   62.189158   62.858732   \n",
       "\n",
       "              Low                                        Headlines_x  \\\n",
       "0      133.230000  french court set date apple case app store dev...   \n",
       "1      131.620000  google likely soon face antitrust claim play s...   \n",
       "2      129.210000  apple shortening new free tv plus trial year t...   \n",
       "3      130.240000  well fargo update bestideas signature pick lis...   \n",
       "4      129.650000  apple award grant computer chip course histori...   \n",
       "...           ...                                                ...   \n",
       "13558   61.533235  facebookquots trump ban last least 2 year glob...   \n",
       "13559   61.533235  japan start antitrust probe apple google nikke...   \n",
       "13560   61.533235  watch next oil crisis sector watch apple store...   \n",
       "13561   61.533235  best preprime day smartwatch deal apple watch ...   \n",
       "13562   61.533235  iphone 13 rumor apple fall event get closer se...   \n",
       "\n",
       "                                             Headlines_y  \n",
       "0                                                    NaN  \n",
       "1                                                    NaN  \n",
       "2                                                    NaN  \n",
       "3                                                    NaN  \n",
       "4                                                    NaN  \n",
       "...                                                  ...  \n",
       "13558  China boast Apple supplier country sign Washin...  \n",
       "13559                                                NaN  \n",
       "13560                                                NaN  \n",
       "13561                                                NaN  \n",
       "13562                                                NaN  \n",
       "\n",
       "[13563 rows x 8 columns]"
      ]
     },
     "execution_count": 430,
     "metadata": {},
     "output_type": "execute_result"
    }
   ],
   "source": [
    "final_dataset"
   ]
  },
  {
   "cell_type": "code",
   "execution_count": 433,
   "metadata": {},
   "outputs": [
    {
     "data": {
      "text/plain": [
       "0"
      ]
     },
     "execution_count": 433,
     "metadata": {},
     "output_type": "execute_result"
    }
   ],
   "source": [
    "data['Headlines'].isnull().sum()"
   ]
  },
  {
   "cell_type": "code",
   "execution_count": null,
   "metadata": {},
   "outputs": [],
   "source": []
  },
  {
   "cell_type": "code",
   "execution_count": null,
   "metadata": {},
   "outputs": [],
   "source": []
  },
  {
   "cell_type": "code",
   "execution_count": null,
   "metadata": {},
   "outputs": [],
   "source": []
  },
  {
   "cell_type": "code",
   "execution_count": null,
   "metadata": {},
   "outputs": [],
   "source": []
  },
  {
   "cell_type": "code",
   "execution_count": null,
   "metadata": {},
   "outputs": [],
   "source": []
  },
  {
   "cell_type": "code",
   "execution_count": null,
   "metadata": {},
   "outputs": [],
   "source": []
  },
  {
   "cell_type": "code",
   "execution_count": null,
   "metadata": {},
   "outputs": [],
   "source": []
  },
  {
   "cell_type": "code",
   "execution_count": null,
   "metadata": {},
   "outputs": [],
   "source": []
  },
  {
   "cell_type": "code",
   "execution_count": null,
   "metadata": {},
   "outputs": [],
   "source": []
  }
 ],
 "metadata": {
  "kernelspec": {
   "display_name": "Python 3",
   "language": "python",
   "name": "python3"
  },
  "language_info": {
   "codemirror_mode": {
    "name": "ipython",
    "version": 3
   },
   "file_extension": ".py",
   "mimetype": "text/x-python",
   "name": "python",
   "nbconvert_exporter": "python",
   "pygments_lexer": "ipython3",
   "version": "3.8.5"
  }
 },
 "nbformat": 4,
 "nbformat_minor": 4
}
